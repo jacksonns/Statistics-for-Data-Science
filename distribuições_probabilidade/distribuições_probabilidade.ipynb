{
 "cells": [
  {
   "cell_type": "markdown",
   "id": "9af707fe",
   "metadata": {},
   "source": [
    "# Distribuições de probabilidade\n"
   ]
  },
  {
   "cell_type": "code",
   "execution_count": 87,
   "id": "9616fbb7",
   "metadata": {},
   "outputs": [],
   "source": [
    "import numpy as np\n",
    "import matplotlib.pyplot as plt\n",
    "from scipy.stats import binom, poisson, pareto, norm, expon"
   ]
  },
  {
   "cell_type": "code",
   "execution_count": 23,
   "id": "32ed6970",
   "metadata": {},
   "outputs": [],
   "source": [
    "np.random.seed(48)"
   ]
  },
  {
   "cell_type": "markdown",
   "id": "b3582247",
   "metadata": {},
   "source": [
    "## Exercício 1\n",
    "\n",
    "Distribuição de probabilidade X ~ Bin(20, 0.15)"
   ]
  },
  {
   "cell_type": "code",
   "execution_count": 2,
   "id": "6f6b6c83",
   "metadata": {},
   "outputs": [
    {
     "data": {
      "text/plain": [
       "[<matplotlib.lines.Line2D at 0x24b30fffc40>]"
      ]
     },
     "execution_count": 2,
     "metadata": {},
     "output_type": "execute_result"
    },
    {
     "data": {
      "image/png": "[encoded data removed]",
      "text/plain": [
       "<Figure size 720x288 with 2 Axes>"
      ]
     },
     "metadata": {
      "needs_background": "light"
     },
     "output_type": "display_data"
    }
   ],
   "source": [
    "x = np.arange(0,10)\n",
    "px = binom.pmf(k=x, n=20, p=0.15)\n",
    "Fx = binom.cdf(x, n=20, p=0.15)\n",
    "\n",
    "plt.figure(figsize= (10,4))\n",
    "plt.subplot(1,2,1)\n",
    "plt.title('Função de probabilidade')\n",
    "plt.xlabel('x')\n",
    "plt.ylabel('px')\n",
    "plt.bar(x, px)\n",
    "\n",
    "plt.subplot(1,2,2)\n",
    "plt.title('Função de probabilidade acumulada')\n",
    "plt.xlabel('x')\n",
    "plt.ylabel('Fx')\n",
    "plt.plot(x, Fx)"
   ]
  },
  {
   "cell_type": "markdown",
   "id": "a3ff26a7",
   "metadata": {},
   "source": [
    "#### 1.1 Qual o valor k em que P(X = k) é máxima? Quanto é esta probabilidade máxima?"
   ]
  },
  {
   "cell_type": "code",
   "execution_count": 3,
   "id": "23f3b219",
   "metadata": {},
   "outputs": [
    {
     "name": "stdout",
     "output_type": "stream",
     "text": [
      "k = 3 e P(k) = 0.24282889614926753\n"
     ]
    }
   ],
   "source": [
    "kmax = np.argmax(px)\n",
    "pmax = px[kmax]\n",
    "\n",
    "print('k = {} e P(k) = {}'.format(kmax, pmax))"
   ]
  },
  {
   "cell_type": "markdown",
   "id": "238d5630",
   "metadata": {},
   "source": [
    "#### 1.2  VISUALMENTE, obtenha uma faixa de valores (a, b) na qual a probabilidade de X ∈ (a, b)seja próxima de 1. Procure grosseiramente obter a faixa mais estreita possível.\n"
   ]
  },
  {
   "cell_type": "markdown",
   "id": "2613d257",
   "metadata": {},
   "source": [
    "(a,b) = (1,5)\n"
   ]
  },
  {
   "cell_type": "markdown",
   "id": "8a47f013",
   "metadata": {},
   "source": [
    "#### 1.3  O valor (téorico) de E(X) no caso de uma binomial é nθ. Como é o comportamento da função P(X = k) no entorno deste valor E(X)? Ela tem valores P(X = k) relativamente altos?"
   ]
  },
  {
   "cell_type": "markdown",
   "id": "a1d52f13",
   "metadata": {},
   "source": [
    "O valor esperado é 20 x 0.15 = 3. A probabilidade no entorno desse valor é relativamente alta, próxima de P(x=3) = 0.25"
   ]
  },
  {
   "cell_type": "markdown",
   "id": "195456d6",
   "metadata": {},
   "source": [
    "####  1.4 Confirme esta impressão calculando P(a ≤ X ≤ b) usando a função dnorm ou pnorm do R. Por exemplo, se eu quiser P(5 ≤ X ≤ 8), uso sum(dnorm(5:8, 20, 0.15) ou então pbinom(8, 20, 0.15) - pbinom(5-0.01, 20, 0.15). Porque eu subtraio 0.01 de 5 na chamada da segunda função?"
   ]
  },
  {
   "cell_type": "code",
   "execution_count": 4,
   "id": "a1c2a6b8",
   "metadata": {},
   "outputs": [
    {
     "name": "stdout",
     "output_type": "stream",
     "text": [
      "Probabilidade = 0.16882424534654916. Subtrai-se 0.01 de 5, porque o valor de P(x=5) é alto\n"
     ]
    }
   ],
   "source": [
    "prob = binom.cdf(8, n=20, p=0.15) - binom.cdf(5-0.01, n=20, p=0.15)\n",
    "print('Probabilidade = {}. Subtrai-se 0.01 de 5, porque o valor de P(x=5) é alto'.format(prob))"
   ]
  },
  {
   "cell_type": "markdown",
   "id": "2f409f2d",
   "metadata": {},
   "source": [
    "#### 1.5  Use qbinom para obter o inteiro k tal que F(k) = P(X ≤ k) ≈ 0.95."
   ]
  },
  {
   "cell_type": "code",
   "execution_count": 5,
   "id": "5568dd3d",
   "metadata": {},
   "outputs": [
    {
     "data": {
      "text/plain": [
       "6.0"
      ]
     },
     "execution_count": 5,
     "metadata": {},
     "output_type": "execute_result"
    }
   ],
   "source": [
    "k = binom.ppf(0.95, n=20, p=0.15)\n",
    "k"
   ]
  },
  {
   "cell_type": "markdown",
   "id": "6bff47fd",
   "metadata": {},
   "source": [
    "#### 1.6 Verifique o valor da probabilidade acumulada exata F(k) obtida com o inteiro acima usando pbinom."
   ]
  },
  {
   "cell_type": "code",
   "execution_count": 6,
   "id": "5bc0b199",
   "metadata": {},
   "outputs": [
    {
     "data": {
      "text/plain": [
       "0.9780648991431549"
      ]
     },
     "execution_count": 6,
     "metadata": {},
     "output_type": "execute_result"
    }
   ],
   "source": [
    "prob = binom.cdf(6, n=20, p=0.15)\n",
    "prob"
   ]
  },
  {
   "cell_type": "markdown",
   "id": "87980515",
   "metadata": {},
   "source": [
    "#### 1.7  Gere 1000 valores aleatórios independentes de X ∼ Bin(n = 20, θ = 0.15). Estes valores cairam, em sua maioria, na faixa que você escolheu mais acima? Qual a porcentagem de valores que caiu na faixa que você escolheu?"
   ]
  },
  {
   "cell_type": "code",
   "execution_count": 7,
   "id": "f81aab7d",
   "metadata": {},
   "outputs": [
    {
     "name": "stdout",
     "output_type": "stream",
     "text": [
      "880 valores cairam na faixa escolhida, correspondendo a 88.0%\n"
     ]
    }
   ],
   "source": [
    "values = np.random.binomial(20, 0.15, 1000)\n",
    "count = ((values >= 1) & (values <= 5)).sum()\n",
    "print('{} valores cairam na faixa escolhida, correspondendo a {}%'.format(count, count/10))"
   ]
  },
  {
   "cell_type": "markdown",
   "id": "20daa993",
   "metadata": {},
   "source": [
    "#### 1.8  Compare os valores das probabilidades P(X = k) para k = 0, . . . 6 e as frequências relativas destes inteiros nos 100 valores simulados.São parecidos?"
   ]
  },
  {
   "cell_type": "code",
   "execution_count": 8,
   "id": "2df8df46",
   "metadata": {},
   "outputs": [
    {
     "name": "stdout",
     "output_type": "stream",
     "text": [
      "Probabilidade: P(k=0)=0.03875953108451433. Frequência: 0.053\n",
      "\n",
      "Probabilidade: P(k=1)=0.13679834500416826. Frequência: 0.137\n",
      "\n",
      "Probabilidade: P(k=2)=0.2293384019187529. Frequência: 0.228\n",
      "\n",
      "Probabilidade: P(k=3)=0.24282889614926753. Frequência: 0.229\n",
      "\n",
      "Probabilidade: P(k=4)=0.18212167211195066. Frequência: 0.197\n",
      "\n",
      "Probabilidade: P(k=5)=0.10284517954557217. Frequência: 0.089\n",
      "\n",
      "Probabilidade: P(k=6)=0.045372873328928906. Frequência: 0.046\n",
      "\n"
     ]
    }
   ],
   "source": [
    "for k in range (0, 7):\n",
    "    prob = binom.pmf(k, n=20, p=0.15)\n",
    "    frequency = (values == k).sum()\n",
    "    print('Probabilidade: P(k={})={}. Frequência: {}\\n'.format(k, prob, frequency/1000))"
   ]
  },
  {
   "cell_type": "markdown",
   "id": "cfe41459",
   "metadata": {},
   "source": [
    "É possível perceber que são realmente valores muito semelhantes com o que foi gerado"
   ]
  },
  {
   "cell_type": "markdown",
   "id": "c0a9e98d",
   "metadata": {},
   "source": [
    "## Exercício 2"
   ]
  },
  {
   "cell_type": "markdown",
   "id": "20ff19ab",
   "metadata": {},
   "source": [
    "#### 2.1 Obtenha o gráfico das probabilidades P(X = k) e da função de probabilidade acumulada F(x) para uma v.a. X ∼ Poisson(λ) usando dois valores: λ = 0.73 e λ = 10."
   ]
  },
  {
   "cell_type": "code",
   "execution_count": 9,
   "id": "337cfa83",
   "metadata": {},
   "outputs": [
    {
     "data": {
      "text/plain": [
       "<matplotlib.legend.Legend at 0x24b3312a050>"
      ]
     },
     "execution_count": 9,
     "metadata": {},
     "output_type": "execute_result"
    },
    {
     "data": {
      "image/png": "[encoded data removed]",
      "text/plain": [
       "<Figure size 720x288 with 2 Axes>"
      ]
     },
     "metadata": {
      "needs_background": "light"
     },
     "output_type": "display_data"
    }
   ],
   "source": [
    "x = np.arange(0,20)\n",
    "\n",
    "plt.figure(figsize= (10,4))\n",
    "plt.subplot(1,2,1)\n",
    "plt.title('Função de probabilidade')\n",
    "plt.plot(x, poisson.pmf(x, 0.73), ms=8, label='lambda=0.73')\n",
    "plt.plot(x, poisson.pmf(x, 10), ms=8, label='lambda=10')\n",
    "plt.legend()\n",
    "\n",
    "plt.subplot(1,2,2)\n",
    "plt.title('Função de probabilidade acumulada')\n",
    "plt.plot(x, poisson.cdf(x, 0.73), ms=8, label='lambda=0.73')\n",
    "plt.plot(x, poisson.cdf(x, 10), ms=8, label='lambda=10')\n",
    "plt.legend()"
   ]
  },
  {
   "cell_type": "markdown",
   "id": "216fe48e",
   "metadata": {},
   "source": [
    "#### 2.2  O valor k em que P(X = k) é máximo é próximo de E(X) = λ?"
   ]
  },
  {
   "cell_type": "markdown",
   "id": "678938b3",
   "metadata": {},
   "source": [
    "Sim. É possível visualizar através dos gráficos."
   ]
  },
  {
   "cell_type": "markdown",
   "id": "79a94fd0",
   "metadata": {},
   "source": [
    "#### 2.3  Obtenha um intervalo de valores (a, b), o mais curto possível gosseiramente, para o qual P(X ∈ (a, b)) ≈ 1."
   ]
  },
  {
   "cell_type": "markdown",
   "id": "e23a7296",
   "metadata": {},
   "source": [
    "Para λ = 0.73, (a,b) = (0,3). Para λ = 10, (a,b) = (5,15)"
   ]
  },
  {
   "cell_type": "markdown",
   "id": "d120f655",
   "metadata": {},
   "source": [
    "#### 2.4  Usando ppois do R, calcule P(a ≤ X ≤ b)."
   ]
  },
  {
   "cell_type": "code",
   "execution_count": 10,
   "id": "f25858ac",
   "metadata": {},
   "outputs": [
    {
     "name": "stdout",
     "output_type": "stream",
     "text": [
      "Para lambda = 0.73, probabilidade = 0.993352334865238\n",
      "Para lambda = 10, probabilidade = 0.9220069086190602\n"
     ]
    }
   ],
   "source": [
    "p1 = poisson.cdf(3, 0.73)\n",
    "p2 = poisson.cdf(15, 10) - poisson.cdf(5-0.01, 10)\n",
    "\n",
    "print('Para lambda = 0.73, probabilidade = {}'.format(p1))\n",
    "print('Para lambda = 10, probabilidade = {}'.format(p2))"
   ]
  },
  {
   "cell_type": "markdown",
   "id": "a3ec28fc",
   "metadata": {},
   "source": [
    "#### 2.5 Gere 200 valores aleatórios independentes de X ∼ Poisson(λ) com os dois valores acima para λ."
   ]
  },
  {
   "cell_type": "code",
   "execution_count": 11,
   "id": "d55ea768",
   "metadata": {},
   "outputs": [],
   "source": [
    "values1 = np.random.poisson(0.73, 200)\n",
    "values2 = np.random.poisson(10, 200)"
   ]
  },
  {
   "cell_type": "markdown",
   "id": "79617ce8",
   "metadata": {},
   "source": [
    "#### 2.6  Compare os valores das probabilidades P(X = k) para k = 0, . . . 6 e as frequências relativas destes inteiros nos 100 valores simulados.S˜ao parecidos?"
   ]
  },
  {
   "cell_type": "code",
   "execution_count": 12,
   "id": "40b8cdd2",
   "metadata": {},
   "outputs": [
    {
     "name": "stdout",
     "output_type": "stream",
     "text": [
      "LAMBDA = 0.73\n",
      "Probabilidade: P(k=0)=0.48190899009020244. Frequência: 0.445\n",
      "Probabilidade: P(k=1)=0.3517935627658478. Frequência: 0.41\n",
      "Probabilidade: P(k=2)=0.12840465040953444. Frequência: 0.115\n",
      "Probabilidade: P(k=3)=0.031245131599653378. Frequência: 0.02\n",
      "Probabilidade: P(k=4)=0.005702236516936738. Frequência: 0.005\n",
      "Probabilidade: P(k=5)=0.0008325265314727638. Frequência: 0.005\n",
      "Probabilidade: P(k=6)=0.00010129072799585292. Frequência: 0.0\n",
      "\n",
      "\n",
      "LAMBDA = 10\n",
      "Probabilidade: P(k=0)=4.5399929762484854e-05. Frequência: 0.0\n",
      "Probabilidade: P(k=1)=0.0004539992976248486. Frequência: 0.0\n",
      "Probabilidade: P(k=2)=0.0022699964881242435. Frequência: 0.0\n",
      "Probabilidade: P(k=3)=0.007566654960414144. Frequência: 0.005\n",
      "Probabilidade: P(k=4)=0.01891663740103538. Frequência: 0.005\n",
      "Probabilidade: P(k=5)=0.03783327480207079. Frequência: 0.03\n",
      "Probabilidade: P(k=6)=0.06305545800345125. Frequência: 0.06\n"
     ]
    }
   ],
   "source": [
    "print('LAMBDA = 0.73')\n",
    "for k in range (0, 7):\n",
    "    prob = poisson.pmf(k, 0.73)\n",
    "    frequency = (values1 == k).sum()\n",
    "    print('Probabilidade: P(k={})={}. Frequência: {}'.format(k, prob, frequency/200))\n",
    "    \n",
    "print('\\n')\n",
    "print('LAMBDA = 10')\n",
    "for k in range (0, 7):\n",
    "    prob = poisson.pmf(k, 10)\n",
    "    frequency = (values2 == k).sum()\n",
    "    print('Probabilidade: P(k={})={}. Frequência: {}'.format(k, prob, frequency/200))"
   ]
  },
  {
   "cell_type": "markdown",
   "id": "913cbf1e",
   "metadata": {},
   "source": [
    "## Exercício 3\n",
    "\n",
    "Distribuição Pareto"
   ]
  },
  {
   "cell_type": "code",
   "execution_count": 13,
   "id": "a2feb0d6",
   "metadata": {},
   "outputs": [
    {
     "data": {
      "text/plain": [
       "<matplotlib.legend.Legend at 0x24b33295e10>"
      ]
     },
     "execution_count": 13,
     "metadata": {},
     "output_type": "execute_result"
    },
    {
     "data": {
      "image/png": "[encoded data removed]",
      "text/plain": [
       "<Figure size 720x288 with 2 Axes>"
      ]
     },
     "metadata": {
      "needs_background": "light"
     },
     "output_type": "display_data"
    }
   ],
   "source": [
    "x = np.arange(1,20)\n",
    "\n",
    "plt.figure(figsize= (10,4))\n",
    "plt.subplot(1,2,1)\n",
    "plt.title('Função de probabilidade')\n",
    "plt.plot(x, pareto.pdf(x, 0.5), ms=8, label='alpha=0.5')\n",
    "plt.plot(x, pareto.pdf(x, 1), ms=8, label='alpha=1')\n",
    "plt.plot(x, pareto.pdf(x, 2), ms=8, label='alpha=2')\n",
    "plt.legend()\n",
    "\n",
    "plt.subplot(1,2,2)\n",
    "plt.title('Função de probabilidade acumulada')\n",
    "plt.plot(x, pareto.cdf(x, 0.5), ms=8, label='alpha=0.5')\n",
    "plt.plot(x, pareto.cdf(x, 1), ms=8, label='alpha=1')\n",
    "plt.plot(x, pareto.cdf(x, 2), ms=8, label='alpha=2')\n",
    "plt.legend()"
   ]
  },
  {
   "cell_type": "code",
   "execution_count": 14,
   "id": "13358f6a",
   "metadata": {},
   "outputs": [
    {
     "name": "stdout",
     "output_type": "stream",
     "text": [
      "Para alpha = 0.5\n",
      "k=1 P(X=k+1)/P(X=k): 0.3535533905932738. (k/k+1)^1+alpha: 0.3535533905932738\n",
      "k=2 P(X=k+1)/P(X=k): 0.5443310539518174. (k/k+1)^1+alpha: 0.5443310539518174\n",
      "k=3 P(X=k+1)/P(X=k): 0.649519052838329. (k/k+1)^1+alpha: 0.649519052838329\n",
      "k=4 P(X=k+1)/P(X=k): 0.7155417527999327. (k/k+1)^1+alpha: 0.7155417527999328\n",
      "k=5 P(X=k+1)/P(X=k): 0.7607257743127307. (k/k+1)^1+alpha: 0.7607257743127308\n",
      "k=6 P(X=k+1)/P(X=k): 0.7935600855193298. (k/k+1)^1+alpha: 0.7935600855193298\n",
      "k=7 P(X=k+1)/P(X=k): 0.8184875533567998. (k/k+1)^1+alpha: 0.8184875533567997\n",
      "k=8 P(X=k+1)/P(X=k): 0.8380524814062784. (k/k+1)^1+alpha: 0.8380524814062785\n",
      "k=9 P(X=k+1)/P(X=k): 0.8538149682454624. (k/k+1)^1+alpha: 0.8538149682454624\n",
      "k=10 P(X=k+1)/P(X=k): 0.8667841720414476. (k/k+1)^1+alpha: 0.8667841720414475\n",
      "k=11 P(X=k+1)/P(X=k): 0.8776415154433099. (k/k+1)^1+alpha: 0.8776415154433099\n",
      "k=12 P(X=k+1)/P(X=k): 0.8868636210743287. (k/k+1)^1+alpha: 0.8868636210743288\n",
      "k=13 P(X=k+1)/P(X=k): 0.8947938179694721. (k/k+1)^1+alpha: 0.8947938179694722\n",
      "k=14 P(X=k+1)/P(X=k): 0.9016856642073429. (k/k+1)^1+alpha: 0.9016856642073429\n",
      "k=15 P(X=k+1)/P(X=k): 0.9077304717673633. (k/k+1)^1+alpha: 0.9077304717673633\n",
      "k=16 P(X=k+1)/P(X=k): 0.91307529425443. (k/k+1)^1+alpha: 0.91307529425443\n",
      "k=17 P(X=k+1)/P(X=k): 0.9178350204849084. (k/k+1)^1+alpha: 0.9178350204849084\n",
      "k=18 P(X=k+1)/P(X=k): 0.922100709585387. (k/k+1)^1+alpha: 0.922100709585387\n",
      "k=19 P(X=k+1)/P(X=k): 0.9259454627568515. (k/k+1)^1+alpha: 0.9259454627568515\n"
     ]
    }
   ],
   "source": [
    "print('Para alpha = 0.5')\n",
    "for k in range(1, 20):\n",
    "    probk = pareto.pdf(k, 0.5)\n",
    "    probk1 = pareto.pdf(k+1, 0.5)\n",
    "    result = (k/(k+1))**1.5\n",
    "    print('k={} P(X=k+1)/P(X=k): {}. (k/k+1)^1+alpha: {}'.format(k, probk1/probk, result))"
   ]
  },
  {
   "cell_type": "markdown",
   "id": "8c1d76c4",
   "metadata": {},
   "source": [
    "Quanto maior o alpha, mais rapido a probabilidade decai conforme k aumenta"
   ]
  },
  {
   "cell_type": "code",
   "execution_count": 16,
   "id": "78e3162a",
   "metadata": {},
   "outputs": [
    {
     "data": {
      "text/plain": [
       "[<matplotlib.lines.Line2D at 0x24b333e4f40>]"
      ]
     },
     "execution_count": 16,
     "metadata": {},
     "output_type": "execute_result"
    },
    {
     "data": {
      "image/png": "[encoded data removed]",
      "text/plain": [
       "<Figure size 432x288 with 1 Axes>"
      ]
     },
     "metadata": {
      "needs_background": "light"
     },
     "output_type": "display_data"
    }
   ],
   "source": [
    "plt.plot(np.log(x), pareto.logpdf(x, 1))"
   ]
  },
  {
   "cell_type": "code",
   "execution_count": 18,
   "id": "95e838e6",
   "metadata": {},
   "outputs": [
    {
     "name": "stdout",
     "output_type": "stream",
     "text": [
      "Axes(0.125,0.125;0.775x0.755)\n",
      "(-0.14722194895832202, 3.0916609281247625)\n"
     ]
    },
    {
     "data": {
      "image/png": "[encoded data removed]",
      "text/plain": [
       "<Figure size 432x288 with 1 Axes>"
      ]
     },
     "metadata": {
      "needs_background": "light"
     },
     "output_type": "display_data"
    }
   ],
   "source": [
    "def abline(slope, intercept):\n",
    "    \"\"\"Plot a line from slope and intercept\"\"\"\n",
    "    axes = plt.gca()\n",
    "    x_vals = np.array(axes.get_xlim())\n",
    "    y_vals = intercept + slope * x_vals\n",
    "    plt.plot(x_vals, y_vals, '--')\n",
    "\n",
    "plt.plot(np.log(x), pareto.logpdf(x, 1))\n",
    "abline(-2, 1.645)"
   ]
  },
  {
   "cell_type": "code",
   "execution_count": 32,
   "id": "06c42d4e",
   "metadata": {},
   "outputs": [],
   "source": [
    "def rzipf(nsim, alpha=1, Cte=1/1.645):\n",
    "    res = np.zeros(nsim)\n",
    "    for i in range(1, nsim):\n",
    "        x = -1\n",
    "        k = 1\n",
    "        F = Cte\n",
    "        p = Cte\n",
    "        U = np.random.uniform()\n",
    "        while x == -1:\n",
    "            if U < F:\n",
    "                x = k\n",
    "            else:\n",
    "                p = p * (k / (k+1))**(1+alpha)\n",
    "                F = F + p\n",
    "                k = k + 1\n",
    "        res[i] = x\n",
    "    return res"
   ]
  },
  {
   "cell_type": "code",
   "execution_count": 38,
   "id": "70e4773e",
   "metadata": {},
   "outputs": [
    {
     "data": {
      "text/plain": [
       "array([  0.,   1.,   1.,   2.,   1.,   2.,  18.,   1.,   2.,   3.,   1.,\n",
       "         2.,  15.,   1.,   1.,   1.,   1.,   1.,   1.,   1.,   4.,   1.,\n",
       "         1.,   2.,   1.,   2.,   1.,   1.,   1.,   3.,   1.,   6.,   3.,\n",
       "         1.,   1.,   1.,   1.,   1.,   1.,  13.,   1.,   1.,   4.,   1.,\n",
       "         1.,   3.,   1.,   4.,   1.,   1.,   1.,   2.,  15.,  21.,   1.,\n",
       "         7.,   5.,   1.,   3.,   1.,   2.,   1.,   5.,   1.,   1.,   1.,\n",
       "         1.,   1.,  17.,   1.,   1.,   2.,   1.,   9.,   1.,   1.,   1.,\n",
       "         4.,  29.,   1.,   2.,   1.,   4.,   1.,   1.,   1.,   1.,   2.,\n",
       "         3.,   4.,   1.,   4.,   3.,   1.,   5.,   5.,   5.,   1.,   7.,\n",
       "         1.,   1.,   1.,  10.,   1.,   2.,   1.,   2.,   1.,   1.,   1.,\n",
       "         1.,   1.,   1.,   1.,   1.,   2.,   1.,   2.,   2.,   1.,   2.,\n",
       "         4.,   3.,   1.,   1.,   1.,   2.,   1.,   4.,   3.,   1.,   9.,\n",
       "         1.,   2.,  13.,   1.,   1.,   4.,   2.,   3.,   4.,   3.,   1.,\n",
       "        10.,  13.,   1.,   2.,   1.,   1.,   1.,   1.,   1.,   1.,   1.,\n",
       "         4.,  12.,  10.,   1.,   1.,   1.,   1.,   1.,   1.,   1.,   5.,\n",
       "         1.,   1.,   1.,   1.,   2.,   5.,   2.,   7.,   1.,   2.,  35.,\n",
       "         1.,   1.,   1.,   1.,   1.,   2.,   1.,   1.,   2.,   4.,   2.,\n",
       "         1.,   1.,   1.,   1.,   1.,   1.,   1.,  21.,   3.,   7.,   1.,\n",
       "         3.,   1.,   1.,   1.,   1.,   1.,   1.,   2.,   1.,   1.,   2.,\n",
       "         1.,   2.,   1.,   1.,   1.,   1.,   1.,   1.,   2.,   1.,   1.,\n",
       "         2.,   1.,   1.,   2.,   2.,   1.,   1.,   3.,   2.,   2.,   1.,\n",
       "         4.,   1.,  36.,   2.,   1.,   2.,   5.,   1.,   1.,   1.,   3.,\n",
       "         1.,   1.,   2.,   1.,   1.,   1.,   1.,   4.,   6.,   1.,   2.,\n",
       "         2.,   2.,   1.,   1.,  12.,   3.,   1.,   1.,   3.,   1.,   1.,\n",
       "         1.,   1., 260.,   1.,   2.,   5.,   1.,   1.,   1.,   3.,   2.,\n",
       "         2.,   1.,  14.,   1.,   1.,  60.,   1.,   8.,  16.,   1.,   3.,\n",
       "         3.,   1.,   1.,   1.,   1.,   1.,   1.,   1.,   2.,   1.,   1.,\n",
       "         1.,   2.,   1.,   2.,  10.,   1.,   2.,   1.,   1.,   2.,   1.,\n",
       "         1.,   1.,   3.,   1.,   1.,   1.,   1.,   2.,   1.,   1.,   1.,\n",
       "         5.,   3.,   1.,   1.,   3.,   5.,   5.,   1.,   1.,   1.,   1.,\n",
       "         1.,   4.,   6.,   1.,   5.,   1.,   1.,   2.,   2.,   2.,   1.,\n",
       "         1.,   9.,   2.,   1.,  10.,   1.,   6.,   1.,   1.,   1.,  10.,\n",
       "         1.,   4.,   2., 210.,  26.,   2.,  21.,   1.,   1.,   1.,   1.,\n",
       "         1.,   4.,   2.,   2.,   6.,  37.,   1.,   1.,   1.,   1.,   2.,\n",
       "         1.,   3.,   1.,   2.,   1.,   1.,   1.,   1.,   3.,   1.,   2.,\n",
       "         7.,  68.,   1.,   3.,   1.,   1.,   3.,   5.,   1.,   1.,   1.,\n",
       "         3.,   1.,   1.,   1.])"
      ]
     },
     "execution_count": 38,
     "metadata": {},
     "output_type": "execute_result"
    }
   ],
   "source": [
    "rzipf1 = rzipf(400)\n",
    "rzipf1"
   ]
  },
  {
   "cell_type": "markdown",
   "id": "642e97c9",
   "metadata": {},
   "source": [
    "## Exercício 4\n"
   ]
  },
  {
   "cell_type": "code",
   "execution_count": 63,
   "id": "e510ba9b",
   "metadata": {},
   "outputs": [
    {
     "data": {
      "image/png": "[encoded data removed]",
      "text/plain": [
       "<Figure size 432x288 with 4 Axes>"
      ]
     },
     "metadata": {
      "needs_background": "light"
     },
     "output_type": "display_data"
    }
   ],
   "source": [
    "def gaussian(x, mu, sig):\n",
    "    return np.exp(-np.power(x - mu, 2.) / (2 * np.power(sig, 2.)))\n",
    "\n",
    "x = np.linspace(-5, 5, 100)\n",
    "fig = plt.figure()\n",
    "ax1 = fig.add_subplot(2, 2, 1)\n",
    "ax2 = fig.add_subplot(2, 2, 2)\n",
    "ax3 = fig.add_subplot(2, 2, 3)\n",
    "ax4 = fig.add_subplot(2, 2, 4)\n",
    "\n",
    "ax1.plot(x, norm.pdf(x, 0, 1))\n",
    "ax2.plot(x, norm.pdf(x, 1, 1))\n",
    "ax3.plot(x, norm.pdf(x, 2, 1))\n",
    "ax4.plot(x, norm.pdf(x, 0, 4))\n",
    "\n",
    "plt.show()"
   ]
  },
  {
   "cell_type": "markdown",
   "id": "cb0692d6",
   "metadata": {},
   "source": [
    "Visualmente, percebe-se que o ponto onde f(x) não varia com σ, enquanto a altura varia (um σ maior, gera uma altura menor), como é possível perceber no quarto plot, que vai até 0.10, enquanto o primeiro vai até 0.4"
   ]
  },
  {
   "cell_type": "code",
   "execution_count": 76,
   "id": "4b564e95",
   "metadata": {},
   "outputs": [
    {
     "data": {
      "text/plain": [
       "0.6289066304773026"
      ]
     },
     "execution_count": 76,
     "metadata": {},
     "output_type": "execute_result"
    }
   ],
   "source": [
    "a = 10 - (2 * np.sqrt(5))\n",
    "b = 10 + (2 * np.sqrt(5))\n",
    "\n",
    "area = norm.cdf(b, 10, 5) - norm.cdf(a, 10, 5)\n",
    "area"
   ]
  },
  {
   "cell_type": "code",
   "execution_count": 86,
   "id": "654b5b61",
   "metadata": {},
   "outputs": [
    {
     "data": {
      "image/png": "[encoded data removed]",
      "text/plain": [
       "<Figure size 432x288 with 1 Axes>"
      ]
     },
     "metadata": {
      "needs_background": "light"
     },
     "output_type": "display_data"
    }
   ],
   "source": [
    "values = np.random.normal(10, 5, 200)\n",
    "x = np.linspace(-5, 25, 100)\n",
    "\n",
    "plt.hist(values, density=True)\n",
    "plt.plot(x, norm.pdf(x, 10, 5))\n",
    "plt.show()"
   ]
  },
  {
   "cell_type": "markdown",
   "id": "70ef0e70",
   "metadata": {},
   "source": [
    "É possível perceber que a distribuição N(10,5) se ajusta bem ao histograma."
   ]
  },
  {
   "cell_type": "markdown",
   "id": "c514b56a",
   "metadata": {},
   "source": [
    "## Exercício 7\n",
    "\n",
    "**Seja X ∼ exp(1/3). Isto é, X ∼ exp(λ) com λ = 1/3. Calcule E(X), F(x) e P(X > 3).**"
   ]
  },
  {
   "cell_type": "code",
   "execution_count": 88,
   "id": "1883b3c5",
   "metadata": {},
   "outputs": [
    {
     "data": {
      "text/plain": [
       "0.6321205588285577"
      ]
     },
     "execution_count": 88,
     "metadata": {},
     "output_type": "execute_result"
    }
   ],
   "source": [
    "px = expon.cdf(3, scale=3)\n",
    "px"
   ]
  },
  {
   "cell_type": "markdown",
   "id": "ae0fc0ab",
   "metadata": {},
   "source": [
    "E(X) = 1 / (1/3) = 3\n",
    "\n",
    "P(X>3) = 1 - 0.63 = 0.37\n"
   ]
  },
  {
   "cell_type": "code",
   "execution_count": null,
   "id": "53c55c1a",
   "metadata": {},
   "outputs": [],
   "source": []
  }
 ],
 "metadata": {
  "kernelspec": {
   "display_name": "Python 3 (ipykernel)",
   "language": "python",
   "name": "python3"
  },
  "language_info": {
   "codemirror_mode": {
    "name": "ipython",
    "version": 3
   },
   "file_extension": ".py",
   "mimetype": "text/x-python",
   "name": "python",
   "nbconvert_exporter": "python",
   "pygments_lexer": "ipython3",
   "version": "3.10.4"
  }
 },
 "nbformat": 4,
 "nbformat_minor": 5
}
