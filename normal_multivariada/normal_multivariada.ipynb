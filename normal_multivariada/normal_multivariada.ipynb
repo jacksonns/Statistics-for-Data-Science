{
 "cells": [
  {
   "cell_type": "markdown",
   "id": "713b5ea8",
   "metadata": {},
   "source": [
    "# Distribuição Normal Multivariada"
   ]
  },
  {
   "cell_type": "code",
   "execution_count": 1,
   "id": "041bef93",
   "metadata": {},
   "outputs": [],
   "source": [
    "import numpy as np\n",
    "from scipy import stats"
   ]
  },
  {
   "cell_type": "markdown",
   "id": "5d48db92",
   "metadata": {},
   "source": [
    "## Questão 1.\n",
    "\n",
    "Num jogo digital, mamonas assassinas movem-se na tela ao acaso. Cada mamona movimenta-se de acordo com um modelo probabilístico próprio para não tornar o jogo monótono.\n",
    "O movimento de cada uma delas é muito simples: a cada instante t (em frações de segundo), ela\n",
    "movimenta-se de acordo com uma v.a. Zt ∼ N(1, 1) na direção norte-sul e de acordo com uma v.a.\n",
    "Wt ∼ N(0, 1/16) na direção leste-oeste. As v.a.s Zt e Wt são independentes entre si. Além disso,\n",
    "Z1, Z2, . . . são independentes bem como W1, W2, . . ..\n",
    "\n",
    "* Simule o movimento de uma mamona assassina por 50 instantes de tempo. Repita a simulação\n",
    "algumas vezes para ter uma ideia do tipo de movimento que a mamona assassina faz. Quais\n",
    "as principais características qualitativas da sua movimentação?\n",
    "\n",
    "* Dado que a manona assassina está numa posição (x, y) num certo instante de tempo, qual a\n",
    "distribuição de probabilidade de sua posição um, dois e tres passos a frente?\n",
    "\n",
    "* Dado que a mamona estava na posição (x, y) num certo instante, determine um retângulo R\n",
    "no plano que tenha eixos paralelos ao sistema de coordenadas e tal que, com probabilidade\n",
    "95%, a mamona esteja dentro de R\n",
    "\n",
    "* Usando o teorema do limite central, qual é a distribuição de probabilidade aproximada da\n",
    "localização de uma mamona assassina se ela partiu da origem (0, 0)?"
   ]
  },
  {
   "cell_type": "code",
   "execution_count": 2,
   "id": "0bc16585",
   "metadata": {},
   "outputs": [
    {
     "name": "stdout",
     "output_type": "stream",
     "text": [
      "Posição no tempo 0: (0, 0)\n",
      "Posição no tempo 1: (0.07128093255311896, 2.7023714757505815)\n",
      "Posição no tempo 2: (0.10259151458429656, 4.483682916088843)\n",
      "Posição no tempo 3: (0.10993484310606927, 4.860207736009769)\n",
      "Posição no tempo 4: (0.12738439326775292, 6.205912609616511)\n",
      "Posição no tempo 5: (0.0510296425453268, 8.189100396876238)\n",
      "Posição no tempo 6: (0.1446906394752165, 9.460751205435969)\n",
      "Posição no tempo 7: (0.12459497924315456, 11.128165084617809)\n",
      "Posição no tempo 8: (0.12736922260595382, 13.073945712743784)\n",
      "Posição no tempo 9: (0.11984960076534547, 14.540604348968767)\n",
      "Posição no tempo 10: (0.1202091914011189, 16.16290905321165)\n",
      "Posição no tempo 11: (0.12545290510853555, 18.2271028526547)\n",
      "Posição no tempo 12: (0.10377947740790319, 18.73662180114799)\n",
      "Posição no tempo 13: (0.10116851571480133, 17.91812140527212)\n",
      "Posição no tempo 14: (0.14787910600477921, 17.638186450139354)\n",
      "Posição no tempo 15: (0.018188608801029127, 18.22513116809698)\n",
      "Posição no tempo 16: (0.13594084335733242, 19.231629232042103)\n",
      "Posição no tempo 17: (0.0410807709288836, 18.822517518264103)\n",
      "Posição no tempo 18: (0.0963991587709823, 21.148057321991033)\n",
      "Posição no tempo 19: (0.15627393303437082, 22.526566887918758)\n",
      "Posição no tempo 20: (0.0902791207830522, 23.168500009711366)\n",
      "Posição no tempo 21: (0.16825761380334975, 23.337822207868186)\n",
      "Posição no tempo 22: (0.13669338012533086, 26.431742904277492)\n",
      "Posição no tempo 23: (0.11029474973820623, 27.217817379752216)\n",
      "Posição no tempo 24: (0.060693434278983924, 27.1193638457137)\n",
      "Posição no tempo 25: (0.13695872615617294, 28.43919087186513)\n",
      "Posição no tempo 26: (0.15774654503917845, 30.543987337782134)\n",
      "Posição no tempo 27: (0.18385604422743798, 31.915758127418933)\n",
      "Posição no tempo 28: (0.20197245547645032, 33.45463830715153)\n",
      "Posição no tempo 29: (0.3297367654154001, 32.456225581526056)\n",
      "Posição no tempo 30: (0.341735013406765, 33.88476003891636)\n",
      "Posição no tempo 31: (0.3241196725923601, 34.9606112677125)\n",
      "Posição no tempo 32: (0.26581172756094185, 37.27879696125239)\n",
      "Posição no tempo 33: (0.2611657813539004, 37.38263926446297)\n",
      "Posição no tempo 34: (0.2547555296719726, 38.606408312410906)\n",
      "Posição no tempo 35: (0.2383969742506155, 38.18545456804485)\n",
      "Posição no tempo 36: (0.27283638781765807, 38.6947507347785)\n",
      "Posição no tempo 37: (0.2337994496293752, 41.02893319355555)\n",
      "Posição no tempo 38: (0.24226688442095942, 41.49371868930714)\n",
      "Posição no tempo 39: (0.22686037666393916, 41.28129572098716)\n",
      "Posição no tempo 40: (0.28380642343489404, 41.45533824585852)\n",
      "Posição no tempo 41: (0.3466968821410917, 42.16440130233762)\n",
      "Posição no tempo 42: (0.2717542408889521, 42.47137759390498)\n",
      "Posição no tempo 43: (0.2356308466062857, 42.30060732732703)\n",
      "Posição no tempo 44: (0.24374229322874677, 45.76242771327557)\n",
      "Posição no tempo 45: (0.2316169445076432, 49.67064190642802)\n",
      "Posição no tempo 46: (0.27625288919201196, 51.8079453842893)\n",
      "Posição no tempo 47: (0.16365654598984614, 52.18425082190015)\n",
      "Posição no tempo 48: (0.11740315232483597, 53.02171120705939)\n",
      "Posição no tempo 49: (0.096917744711184, 53.46334204825485)\n"
     ]
    }
   ],
   "source": [
    "def simulate_movement(T):\n",
    "    x = 0\n",
    "    y = 0\n",
    "    for t in range(T):\n",
    "        print(f'Posição no tempo {t}: ({x}, {y})')\n",
    "        x += np.random.normal(0, 1/16)\n",
    "        y += np.random.normal(1, 1)\n",
    "\n",
    "simulate_movement(50)"
   ]
  },
  {
   "cell_type": "markdown",
   "id": "cbda14a2",
   "metadata": {},
   "source": [
    "É possível perceber que a mamona se movimenta bastante no sentido Norte (poucas são as vezes em que o valor dessa coordenada diminui). Já no sentido leste-oeste, a mamona tende a se movimentar pouco, variando o movimento ao redor da coordenada 0.\n",
    "\n",
    "Dado uma posição (x, y), a posição após 1 passo é dada por (x + X, y + Y), onde X segue uma distribuição normal (0, 1/16) e Y segue uma distribuição normal (1, 1). Portanto, a distribuição após 1 passo é dada por uma Normal bivariada com médias (x, y) + (0, 1) e uma matriz de covariância diagonal igual a (1/16, 1).\n",
    "\n",
    "Para obter a distribuição após 2 passos, é média é dada multiplicando as médias das Normais por 2 e somando pelo ponto inicial (x, y) + (0, 2). A matriz de covariância diagonal também é multiplicada por 2: (1/8, 2).\n",
    "\n",
    "Para obter o retângulo que contém uma mamona após um passo saindo de (x, y) com 95% de probabilidade:"
   ]
  },
  {
   "cell_type": "code",
   "execution_count": 3,
   "id": "586e5d0a",
   "metadata": {},
   "outputs": [
    {
     "data": {
      "text/plain": [
       "1.6448536269514722"
      ]
     },
     "execution_count": 3,
     "metadata": {},
     "output_type": "execute_result"
    }
   ],
   "source": [
    "percentil = stats.norm.ppf(0.95)\n",
    "percentil"
   ]
  },
  {
   "cell_type": "code",
   "execution_count": 4,
   "id": "47679447",
   "metadata": {},
   "outputs": [],
   "source": [
    "limite_x = percentil * 1/16 # desvio padrão de x\n",
    "limite_y = percentil * 1 # desvio padrão de y"
   ]
  },
  {
   "cell_type": "code",
   "execution_count": 5,
   "id": "7795694f",
   "metadata": {},
   "outputs": [
    {
     "name": "stdout",
     "output_type": "stream",
     "text": [
      "O retângulo é obtido por [x - 0.10280335168446701, x + 0.10280335168446701], [y + 1 - 1.6448536269514722, y + 1 + 1.6448536269514722]\n"
     ]
    }
   ],
   "source": [
    "# Para obter o retângulo, basta subtrair/somar os limites da média,\n",
    "# onde média = (x+0, y+1) para 1 passo saindo de (x, y)\n",
    "print(f'O retângulo é obtido por [x - {limite_x}, x + {limite_x}], [y + 1 - {limite_y}, y + 1 + {limite_y}]')"
   ]
  },
  {
   "cell_type": "markdown",
   "id": "a19b3032",
   "metadata": {},
   "source": [
    "Por exemplo, se a mamona sai do ponto (x, y) = (0, 0), o retângulo é definido por:"
   ]
  },
  {
   "cell_type": "code",
   "execution_count": 6,
   "id": "6b9867cb",
   "metadata": {},
   "outputs": [
    {
     "name": "stdout",
     "output_type": "stream",
     "text": [
      "[-0.10280335168446701, 0.10280335168446701], [-0.6448536269514722, 2.6448536269514724]\n"
     ]
    }
   ],
   "source": [
    "print(f'[{0 - limite_x}, {0 + limite_x}], [{0 + 1 - limite_y}, {0 + 1 +limite_y}]')"
   ]
  },
  {
   "cell_type": "markdown",
   "id": "b41a3cff",
   "metadata": {},
   "source": [
    "# Questão 2.\n",
    "\n",
    "Considere o conjunto de dados iris. Os dados em setosa são uma amostra de exemplos do vetor aleatório X = (X1, X2, X3, X4) para\n",
    "a espécie setosa. X1 é o Sepal Length, X2 é o Sepal Width, X3 é o Petal Length e X4 é o Petal\n",
    "Width. Assuma que a distribuição conjunta do vetor X é uma normal multivariada de dimensão 4\n",
    "com parâmetros µ = (µ1, µ2, µ3, µ4) e matriz de covariância Σ de dimensão 4×4. Use os resultados\n",
    "obtidos no R (e apenas DUAS casas decimais) para responder às seguintes questões:\n",
    "\n",
    "* Forneça uma estimativa para o vetor µ e para a matriz Σ.\n",
    "* A partir da matriz de correlações entre os pares de v.a.’s (e do plot de dispersão dos pontos),\n",
    "quais os grupos que são mais correlacionados?\n",
    "* Obtenha a distribuição do sub-vetor X∗ = (X1, X3).\n",
    "* Obtenha a distribuição CONDICIONAL do sub-vetor X∗ = (X1, X3) quando são conhecidos\n",
    "os valores de (X2, X4).\n",
    "* Obtenha agora distribuição CONDICIONAL do sub-vetor X∗ = (X1, X3) quando é conhecido\n",
    "apenas o valor de X2.\n",
    "* Obtenha também distribuição CONDICIONAL do sub-vetor X∗ = (X1, X3) quando é conhecido apenas o valor de X4.\n",
    "* Comparando as três últimas respostas que você forneceu, qual das duas variáveis isoladamente,\n",
    "X2 ou X4, diminui mais a incerteza acerca de X3? Isto é, se você tivesse de escolher apenas\n",
    "uma delas, X2 ou X4, qual você iria preferir se seu objetivo fosse predizer o valor de X3? A\n",
    "resposta é a mesma se o objetyivo for predizer X1?\n",
    "* Considere a melhor preditora para X3 que você escolheu, dentre X2 ou X4, na questão anterior. Digamos que tenha sido X4. Avalie quanto conhecer a outra variável (neste caso,\n",
    "X2) reduz ADICIONALMENTE a incerteza acerca de X3. Isto é, compare Var(X3|X4) com\n",
    "Var(X3|X2, X4)."
   ]
  },
  {
   "cell_type": "code",
   "execution_count": 7,
   "id": "91fef4c2",
   "metadata": {},
   "outputs": [],
   "source": [
    "from sklearn.datasets import load_iris\n",
    "from matplotlib import pyplot as plt\n",
    "import pandas as pd"
   ]
  },
  {
   "cell_type": "code",
   "execution_count": 8,
   "id": "1e848c08",
   "metadata": {},
   "outputs": [
    {
     "data": {
      "text/plain": [
       "['sepal length (cm)',\n",
       " 'sepal width (cm)',\n",
       " 'petal length (cm)',\n",
       " 'petal width (cm)']"
      ]
     },
     "execution_count": 8,
     "metadata": {},
     "output_type": "execute_result"
    }
   ],
   "source": [
    "data = load_iris()\n",
    "data.feature_names"
   ]
  },
  {
   "cell_type": "code",
   "execution_count": 9,
   "id": "a16e6e09",
   "metadata": {},
   "outputs": [
    {
     "data": {
      "text/html": [
       "<div>\n",
       "<style scoped>\n",
       "    .dataframe tbody tr th:only-of-type {\n",
       "        vertical-align: middle;\n",
       "    }\n",
       "\n",
       "    .dataframe tbody tr th {\n",
       "        vertical-align: top;\n",
       "    }\n",
       "\n",
       "    .dataframe thead th {\n",
       "        text-align: right;\n",
       "    }\n",
       "</style>\n",
       "<table border=\"1\" class=\"dataframe\">\n",
       "  <thead>\n",
       "    <tr style=\"text-align: right;\">\n",
       "      <th></th>\n",
       "      <th>sepal length (cm)</th>\n",
       "      <th>sepal width (cm)</th>\n",
       "      <th>petal length (cm)</th>\n",
       "      <th>petal width (cm)</th>\n",
       "      <th>species</th>\n",
       "    </tr>\n",
       "  </thead>\n",
       "  <tbody>\n",
       "    <tr>\n",
       "      <th>0</th>\n",
       "      <td>5.1</td>\n",
       "      <td>3.5</td>\n",
       "      <td>1.4</td>\n",
       "      <td>0.2</td>\n",
       "      <td>setosa</td>\n",
       "    </tr>\n",
       "    <tr>\n",
       "      <th>1</th>\n",
       "      <td>4.9</td>\n",
       "      <td>3.0</td>\n",
       "      <td>1.4</td>\n",
       "      <td>0.2</td>\n",
       "      <td>setosa</td>\n",
       "    </tr>\n",
       "    <tr>\n",
       "      <th>2</th>\n",
       "      <td>4.7</td>\n",
       "      <td>3.2</td>\n",
       "      <td>1.3</td>\n",
       "      <td>0.2</td>\n",
       "      <td>setosa</td>\n",
       "    </tr>\n",
       "    <tr>\n",
       "      <th>3</th>\n",
       "      <td>4.6</td>\n",
       "      <td>3.1</td>\n",
       "      <td>1.5</td>\n",
       "      <td>0.2</td>\n",
       "      <td>setosa</td>\n",
       "    </tr>\n",
       "    <tr>\n",
       "      <th>4</th>\n",
       "      <td>5.0</td>\n",
       "      <td>3.6</td>\n",
       "      <td>1.4</td>\n",
       "      <td>0.2</td>\n",
       "      <td>setosa</td>\n",
       "    </tr>\n",
       "  </tbody>\n",
       "</table>\n",
       "</div>"
      ],
      "text/plain": [
       "   sepal length (cm)  sepal width (cm)  petal length (cm)  petal width (cm)  \\\n",
       "0                5.1               3.5                1.4               0.2   \n",
       "1                4.9               3.0                1.4               0.2   \n",
       "2                4.7               3.2                1.3               0.2   \n",
       "3                4.6               3.1                1.5               0.2   \n",
       "4                5.0               3.6                1.4               0.2   \n",
       "\n",
       "  species  \n",
       "0  setosa  \n",
       "1  setosa  \n",
       "2  setosa  \n",
       "3  setosa  \n",
       "4  setosa  "
      ]
     },
     "execution_count": 9,
     "metadata": {},
     "output_type": "execute_result"
    }
   ],
   "source": [
    "df = pd.DataFrame(data.data, columns=data.feature_names)\n",
    "df['species'] = data.target\n",
    "df['species'] = df['species'].replace(to_replace= [0, 1, 2], value = ['setosa', 'versicolor', 'virginica'])\n",
    "df.head()"
   ]
  },
  {
   "cell_type": "code",
   "execution_count": 10,
   "id": "c7f73809",
   "metadata": {},
   "outputs": [
    {
     "data": {
      "image/png": "[encoded data removed]",
      "text/plain": [
       "<Figure size 432x288 with 1 Axes>"
      ]
     },
     "metadata": {
      "needs_background": "light"
     },
     "output_type": "display_data"
    }
   ],
   "source": [
    "cores = {'setosa': 'red', 'versicolor': 'green', 'virginica': 'blue'}\n",
    "cores_classes = df['species'].map(cores)\n",
    "\n",
    "plt.scatter(df['petal length (cm)'], df['petal width (cm)'], c=cores_classes)\n",
    "plt.show()"
   ]
  },
  {
   "cell_type": "code",
   "execution_count": 12,
   "id": "047b0b72",
   "metadata": {},
   "outputs": [
    {
     "data": {
      "text/html": [
       "<div>\n",
       "<style scoped>\n",
       "    .dataframe tbody tr th:only-of-type {\n",
       "        vertical-align: middle;\n",
       "    }\n",
       "\n",
       "    .dataframe tbody tr th {\n",
       "        vertical-align: top;\n",
       "    }\n",
       "\n",
       "    .dataframe thead th {\n",
       "        text-align: right;\n",
       "    }\n",
       "</style>\n",
       "<table border=\"1\" class=\"dataframe\">\n",
       "  <thead>\n",
       "    <tr style=\"text-align: right;\">\n",
       "      <th></th>\n",
       "      <th>sepal length (cm)</th>\n",
       "      <th>sepal width (cm)</th>\n",
       "      <th>petal length (cm)</th>\n",
       "      <th>petal width (cm)</th>\n",
       "    </tr>\n",
       "  </thead>\n",
       "  <tbody>\n",
       "    <tr>\n",
       "      <th>0</th>\n",
       "      <td>5.1</td>\n",
       "      <td>3.5</td>\n",
       "      <td>1.4</td>\n",
       "      <td>0.2</td>\n",
       "    </tr>\n",
       "    <tr>\n",
       "      <th>1</th>\n",
       "      <td>4.9</td>\n",
       "      <td>3.0</td>\n",
       "      <td>1.4</td>\n",
       "      <td>0.2</td>\n",
       "    </tr>\n",
       "    <tr>\n",
       "      <th>2</th>\n",
       "      <td>4.7</td>\n",
       "      <td>3.2</td>\n",
       "      <td>1.3</td>\n",
       "      <td>0.2</td>\n",
       "    </tr>\n",
       "    <tr>\n",
       "      <th>3</th>\n",
       "      <td>4.6</td>\n",
       "      <td>3.1</td>\n",
       "      <td>1.5</td>\n",
       "      <td>0.2</td>\n",
       "    </tr>\n",
       "    <tr>\n",
       "      <th>4</th>\n",
       "      <td>5.0</td>\n",
       "      <td>3.6</td>\n",
       "      <td>1.4</td>\n",
       "      <td>0.2</td>\n",
       "    </tr>\n",
       "  </tbody>\n",
       "</table>\n",
       "</div>"
      ],
      "text/plain": [
       "   sepal length (cm)  sepal width (cm)  petal length (cm)  petal width (cm)\n",
       "0                5.1               3.5                1.4               0.2\n",
       "1                4.9               3.0                1.4               0.2\n",
       "2                4.7               3.2                1.3               0.2\n",
       "3                4.6               3.1                1.5               0.2\n",
       "4                5.0               3.6                1.4               0.2"
      ]
     },
     "execution_count": 12,
     "metadata": {},
     "output_type": "execute_result"
    }
   ],
   "source": [
    "setosa = df[df['species'] == 'setosa']\n",
    "setosa = setosa.drop('species', axis=1)\n",
    "setosa.head()"
   ]
  },
  {
   "cell_type": "code",
   "execution_count": 15,
   "id": "e89e19e5",
   "metadata": {},
   "outputs": [],
   "source": [
    "X1 = setosa['sepal length (cm)']\n",
    "X2 = setosa['sepal width (cm)']\n",
    "X3 = setosa['petal length (cm)']\n",
    "X4 = setosa['petal width (cm)']"
   ]
  },
  {
   "cell_type": "code",
   "execution_count": 16,
   "id": "1be61efe",
   "metadata": {},
   "outputs": [
    {
     "data": {
      "image/png": "[encoded data removed]",
      "text/plain": [
       "<Figure size 432x288 with 1 Axes>"
      ]
     },
     "metadata": {
      "needs_background": "light"
     },
     "output_type": "display_data"
    }
   ],
   "source": [
    "plt.plot(setosa)\n",
    "plt.show()"
   ]
  },
  {
   "cell_type": "code",
   "execution_count": 17,
   "id": "03a6e1c6",
   "metadata": {},
   "outputs": [
    {
     "data": {
      "text/plain": [
       "array([5.006, 3.428, 1.462, 0.246])"
      ]
     },
     "execution_count": 17,
     "metadata": {},
     "output_type": "execute_result"
    }
   ],
   "source": [
    "mu = setosa.mean().to_numpy()\n",
    "mu"
   ]
  },
  {
   "cell_type": "code",
   "execution_count": 18,
   "id": "de03fc40",
   "metadata": {},
   "outputs": [
    {
     "data": {
      "text/html": [
       "<div>\n",
       "<style scoped>\n",
       "    .dataframe tbody tr th:only-of-type {\n",
       "        vertical-align: middle;\n",
       "    }\n",
       "\n",
       "    .dataframe tbody tr th {\n",
       "        vertical-align: top;\n",
       "    }\n",
       "\n",
       "    .dataframe thead th {\n",
       "        text-align: right;\n",
       "    }\n",
       "</style>\n",
       "<table border=\"1\" class=\"dataframe\">\n",
       "  <thead>\n",
       "    <tr style=\"text-align: right;\">\n",
       "      <th></th>\n",
       "      <th>sepal length (cm)</th>\n",
       "      <th>sepal width (cm)</th>\n",
       "      <th>petal length (cm)</th>\n",
       "      <th>petal width (cm)</th>\n",
       "    </tr>\n",
       "  </thead>\n",
       "  <tbody>\n",
       "    <tr>\n",
       "      <th>sepal length (cm)</th>\n",
       "      <td>0.124249</td>\n",
       "      <td>0.099216</td>\n",
       "      <td>0.016355</td>\n",
       "      <td>0.010331</td>\n",
       "    </tr>\n",
       "    <tr>\n",
       "      <th>sepal width (cm)</th>\n",
       "      <td>0.099216</td>\n",
       "      <td>0.143690</td>\n",
       "      <td>0.011698</td>\n",
       "      <td>0.009298</td>\n",
       "    </tr>\n",
       "    <tr>\n",
       "      <th>petal length (cm)</th>\n",
       "      <td>0.016355</td>\n",
       "      <td>0.011698</td>\n",
       "      <td>0.030159</td>\n",
       "      <td>0.006069</td>\n",
       "    </tr>\n",
       "    <tr>\n",
       "      <th>petal width (cm)</th>\n",
       "      <td>0.010331</td>\n",
       "      <td>0.009298</td>\n",
       "      <td>0.006069</td>\n",
       "      <td>0.011106</td>\n",
       "    </tr>\n",
       "  </tbody>\n",
       "</table>\n",
       "</div>"
      ],
      "text/plain": [
       "                   sepal length (cm)  sepal width (cm)  petal length (cm)  \\\n",
       "sepal length (cm)           0.124249          0.099216           0.016355   \n",
       "sepal width (cm)            0.099216          0.143690           0.011698   \n",
       "petal length (cm)           0.016355          0.011698           0.030159   \n",
       "petal width (cm)            0.010331          0.009298           0.006069   \n",
       "\n",
       "                   petal width (cm)  \n",
       "sepal length (cm)          0.010331  \n",
       "sepal width (cm)           0.009298  \n",
       "petal length (cm)          0.006069  \n",
       "petal width (cm)           0.011106  "
      ]
     },
     "execution_count": 18,
     "metadata": {},
     "output_type": "execute_result"
    }
   ],
   "source": [
    "cov = setosa.cov()\n",
    "cov"
   ]
  },
  {
   "cell_type": "code",
   "execution_count": 19,
   "id": "c84ba0cc",
   "metadata": {},
   "outputs": [
    {
     "data": {
      "text/plain": [
       "array([[0.12424898, 0.09921633, 0.0163551 , 0.01033061],\n",
       "       [0.09921633, 0.1436898 , 0.01169796, 0.00929796],\n",
       "       [0.0163551 , 0.01169796, 0.03015918, 0.00606939],\n",
       "       [0.01033061, 0.00929796, 0.00606939, 0.01110612]])"
      ]
     },
     "execution_count": 19,
     "metadata": {},
     "output_type": "execute_result"
    }
   ],
   "source": [
    "cov = cov.to_numpy()\n",
    "cov"
   ]
  },
  {
   "cell_type": "code",
   "execution_count": 20,
   "id": "a189753f",
   "metadata": {},
   "outputs": [
    {
     "data": {
      "text/html": [
       "<div>\n",
       "<style scoped>\n",
       "    .dataframe tbody tr th:only-of-type {\n",
       "        vertical-align: middle;\n",
       "    }\n",
       "\n",
       "    .dataframe tbody tr th {\n",
       "        vertical-align: top;\n",
       "    }\n",
       "\n",
       "    .dataframe thead th {\n",
       "        text-align: right;\n",
       "    }\n",
       "</style>\n",
       "<table border=\"1\" class=\"dataframe\">\n",
       "  <thead>\n",
       "    <tr style=\"text-align: right;\">\n",
       "      <th></th>\n",
       "      <th>sepal length (cm)</th>\n",
       "      <th>sepal width (cm)</th>\n",
       "      <th>petal length (cm)</th>\n",
       "      <th>petal width (cm)</th>\n",
       "    </tr>\n",
       "  </thead>\n",
       "  <tbody>\n",
       "    <tr>\n",
       "      <th>sepal length (cm)</th>\n",
       "      <td>1.000000</td>\n",
       "      <td>0.742547</td>\n",
       "      <td>0.267176</td>\n",
       "      <td>0.278098</td>\n",
       "    </tr>\n",
       "    <tr>\n",
       "      <th>sepal width (cm)</th>\n",
       "      <td>0.742547</td>\n",
       "      <td>1.000000</td>\n",
       "      <td>0.177700</td>\n",
       "      <td>0.232752</td>\n",
       "    </tr>\n",
       "    <tr>\n",
       "      <th>petal length (cm)</th>\n",
       "      <td>0.267176</td>\n",
       "      <td>0.177700</td>\n",
       "      <td>1.000000</td>\n",
       "      <td>0.331630</td>\n",
       "    </tr>\n",
       "    <tr>\n",
       "      <th>petal width (cm)</th>\n",
       "      <td>0.278098</td>\n",
       "      <td>0.232752</td>\n",
       "      <td>0.331630</td>\n",
       "      <td>1.000000</td>\n",
       "    </tr>\n",
       "  </tbody>\n",
       "</table>\n",
       "</div>"
      ],
      "text/plain": [
       "                   sepal length (cm)  sepal width (cm)  petal length (cm)  \\\n",
       "sepal length (cm)           1.000000          0.742547           0.267176   \n",
       "sepal width (cm)            0.742547          1.000000           0.177700   \n",
       "petal length (cm)           0.267176          0.177700           1.000000   \n",
       "petal width (cm)            0.278098          0.232752           0.331630   \n",
       "\n",
       "                   petal width (cm)  \n",
       "sepal length (cm)          0.278098  \n",
       "sepal width (cm)           0.232752  \n",
       "petal length (cm)          0.331630  \n",
       "petal width (cm)           1.000000  "
      ]
     },
     "execution_count": 20,
     "metadata": {},
     "output_type": "execute_result"
    }
   ],
   "source": [
    "corr = setosa.corr()\n",
    "corr"
   ]
  },
  {
   "cell_type": "markdown",
   "id": "fd437e7d",
   "metadata": {},
   "source": [
    "Pela matriz de correlação, é possível perceber que o par sepal length e sepal width estão bastante correlacionaodos (p = 0.74). A segunda maior correlação é entre petal length e petal width (p = 0.33)"
   ]
  },
  {
   "cell_type": "markdown",
   "id": "62a46f1b",
   "metadata": {},
   "source": [
    "A distribuição do sub-vetor (X1, X3) é uma Normal bivariada com $\\mu = (5.006, 1.462)$ e \n",
    "$\\Sigma=\\begin{pmatrix}\n",
    "0.12424898 & 0.0163551 \\\\\n",
    "0.0163551 & 0.03015918\n",
    "\\end{pmatrix}$ \n",
    "\n",
    "Para obter a distribuição condicional de (X1, X3) dado (X2, X4):\n",
    "\n",
    "$$\n",
    "\\mu = \n",
    "\\begin{pmatrix}\n",
    "5.006 \\\\\n",
    "1.462 \n",
    "\\end{pmatrix}\n",
    "+\n",
    "\\begin{pmatrix}\n",
    "0.09921633 & 0.01033061\\\\\n",
    "0.01169796 & 0.00606939\n",
    "\\end{pmatrix}\n",
    "\\begin{pmatrix}\n",
    "7.35804761 & -6.16010013\\\\ \n",
    "-6.16010013 & 95.19761415\n",
    "\\end{pmatrix}\n",
    "\\begin{pmatrix}\n",
    "x2 -  3.428\\\\\n",
    "x4 -  0.246\n",
    "\\end{pmatrix}\n",
    "$$\n",
    "\n",
    "$$\n",
    "\\sigma = \n",
    "\\begin{pmatrix}\n",
    "0.12424898 & 0.0163551\\\\\n",
    "0.0163551 & 0.03015918\n",
    "\\end{pmatrix}\n",
    "-\n",
    "\\begin{pmatrix}\n",
    "0.09921633 & 0.01033061\\\\\n",
    "0.01169796 & 0.00606939\n",
    "\\end{pmatrix}\n",
    "\\begin{pmatrix}\n",
    "7.35804761 & -6.16010013\\\\ \n",
    "-6.16010013 & 95.19761415\n",
    "\\end{pmatrix}\n",
    "\\begin{pmatrix}\n",
    "0.09921633 & 0.01169796\\\\\n",
    "0.01033061 & 0.00606939\n",
    "\\end{pmatrix}\n",
    "$$"
   ]
  },
  {
   "cell_type": "code",
   "execution_count": 21,
   "id": "96727cc2",
   "metadata": {},
   "outputs": [
    {
     "data": {
      "text/plain": [
       "array([[0.12424898, 0.0163551 ],\n",
       "       [0.0163551 , 0.03015918]])"
      ]
     },
     "execution_count": 21,
     "metadata": {},
     "output_type": "execute_result"
    }
   ],
   "source": [
    "idx13 = [0, 2]\n",
    "idx24 = [1, 3]\n",
    "\n",
    "cov13 = cov[np.ix_(idx13, idx13)]\n",
    "cov13"
   ]
  },
  {
   "cell_type": "code",
   "execution_count": 22,
   "id": "a7cf9351",
   "metadata": {},
   "outputs": [
    {
     "data": {
      "text/plain": [
       "array([[0.1436898 , 0.00929796],\n",
       "       [0.00929796, 0.01110612]])"
      ]
     },
     "execution_count": 22,
     "metadata": {},
     "output_type": "execute_result"
    }
   ],
   "source": [
    "cov24 = cov[np.ix_(idx24, idx24)]\n",
    "cov24"
   ]
  },
  {
   "cell_type": "code",
   "execution_count": 23,
   "id": "9a313f1a",
   "metadata": {},
   "outputs": [
    {
     "data": {
      "text/plain": [
       "array([[0.09921633, 0.01033061],\n",
       "       [0.01169796, 0.00606939]])"
      ]
     },
     "execution_count": 23,
     "metadata": {},
     "output_type": "execute_result"
    }
   ],
   "source": [
    "cov_cond = cov[np.ix_(idx13, idx24)]\n",
    "cov_cond"
   ]
  },
  {
   "cell_type": "code",
   "execution_count": 25,
   "id": "1e5a1765",
   "metadata": {},
   "outputs": [
    {
     "data": {
      "text/plain": [
       "array([[0.09921633, 0.01169796],\n",
       "       [0.01033061, 0.00606939]])"
      ]
     },
     "execution_count": 25,
     "metadata": {},
     "output_type": "execute_result"
    }
   ],
   "source": [
    "cov_cond_2 = cov[np.ix_(idx24, idx13)]\n",
    "cov_cond_2"
   ]
  },
  {
   "cell_type": "code",
   "execution_count": 24,
   "id": "0078b740",
   "metadata": {},
   "outputs": [
    {
     "data": {
      "text/plain": [
       "array([[ 7.35804761, -6.16010013],\n",
       "       [-6.16010013, 95.19761415]])"
      ]
     },
     "execution_count": 24,
     "metadata": {},
     "output_type": "execute_result"
    }
   ],
   "source": [
    "np.linalg.inv(cov24)"
   ]
  },
  {
   "cell_type": "markdown",
   "id": "ba21f8a1",
   "metadata": {},
   "source": [
    "## Questão 3.\n",
    "\n",
    "Seja Z = (Z1, Z2, Z3) um vetor de variáveis i.i.d. (independentes e identicamente distribuídas)\n",
    "N(0, 1). Isto é, Z segue uma distribuição normal multivariada com valor esperado esperado (0, 0, 0)\n",
    "e matriz 3 × 3 de covariância igual à identidade I. Você aprendeu a gerar estas v.a.’s na lista\n",
    "anterior.\n",
    "Queremos agora gerar um vetor aleatório X = (X1, X2, X3) seguindo uma normal multivariada com\n",
    "valor esperado µ = (µ1, µ2, µ3) = (10, 20, -50) e com matriz de covariância $\\Sigma$\n",
    "\n",
    "$$\\begin{matrix}\n",
    "4&9&-14\\\\\n",
    "9&30&-44\\\\\n",
    "-14&-44&94\\\\\n",
    "\\end{matrix}$$\n",
    "\n",
    "\n",
    "Para isto, siga os seguintes passos:\n",
    "\n",
    "* Encontre uma matriz L tal que $LL^{t} = \\Sigma$. Uma matriz com esta propriedade é aquela obtida\n",
    "pela decomposição de Cholesky de matrizes simétricas e definidas positivas. Em R, isto é\n",
    "obtido pelo comando L = t(chol(Sigma)).\n",
    "* Gere z, um vetor 3-dim com v.a.’s iid N(0, 1).\n",
    "* A seguir, faça\n",
    "x = mu + L * z\n",
    "\n",
    "Gere uma amostra de tamanho 2000 dos vetores x 3-dim e armazene numa matriz amostra de\n",
    "dimensão 2000 × 3. A seguir, calcule a média aritmética dos 2000 valores de cada coordenada de x\n",
    "e compare com os três valores do vetor µ. Eles devem ser parecidos.\n",
    "\n",
    "Usando a amostra, estime os 9 valores da matriz de covariância $\\Sigma$. Chame esta matriz estimada\n",
    "de S. Verifique que as estimativas são próximas dos valores verdadeiros que você usou para gerar\n",
    "seus dados. Por exemplo, estime o elemento $\\sigma_{12}$ da matriz $\\Sigma$ por \n",
    "\n",
    "$$\n",
    "s_{12} = \\frac{1}{2000} \\sum_{i=1}^{2000}(x_{i1} - \\overline{x}_{1}) (x_{i2} - \\overline{x}_{2})$$\n",
    "\n",
    "\n",
    "onde $\\overline{x}_{1}$ e $\\overline{x}_{2}$ são as médias aritméticas dos 2000 valores observados das v.a.’s 1 e 2. Os termos $\\sigma_{jj}$ da diagonal principal são estimados por\n",
    "\n",
    "$$\n",
    "s_{jj} = \\frac{1}{2000} \\sum_{i=1}^{2000}(x_{ij} - \\overline{x}_{j})^2\n",
    "$$\n",
    "\n",
    "O comando cov(x) calcula a matriz S diretamente (usando 1999 no denominador, ao invés de\n",
    "2000). Procure calcular você os termos da matriz S para ter certeza de que você está entendendo\n",
    "o que estamos fazendo."
   ]
  },
  {
   "cell_type": "code",
   "execution_count": 27,
   "id": "e1347bcc",
   "metadata": {},
   "outputs": [
    {
     "data": {
      "text/plain": [
       "array([[  4,   9, -14],\n",
       "       [  9,  30, -44],\n",
       "       [-14, -44,  94]])"
      ]
     },
     "execution_count": 27,
     "metadata": {},
     "output_type": "execute_result"
    }
   ],
   "source": [
    "sigma = np.array([[4, 9, -14], [9, 30, -44], [-14, -44, 94]])\n",
    "sigma"
   ]
  },
  {
   "cell_type": "code",
   "execution_count": 30,
   "id": "02305c9f",
   "metadata": {},
   "outputs": [
    {
     "data": {
      "text/plain": [
       "array([ 10,  20, -50])"
      ]
     },
     "execution_count": 30,
     "metadata": {},
     "output_type": "execute_result"
    }
   ],
   "source": [
    "mu = np.array([10, 20, -50])\n",
    "mu"
   ]
  },
  {
   "cell_type": "code",
   "execution_count": 28,
   "id": "ba68c29c",
   "metadata": {},
   "outputs": [
    {
     "data": {
      "text/plain": [
       "array([[ 2.        ,  0.        ,  0.        ],\n",
       "       [ 4.5       ,  3.122499  ,  0.        ],\n",
       "       [-7.        , -4.00320385,  5.38278357]])"
      ]
     },
     "execution_count": 28,
     "metadata": {},
     "output_type": "execute_result"
    }
   ],
   "source": [
    "L = np.linalg.cholesky(sigma)\n",
    "L"
   ]
  },
  {
   "cell_type": "code",
   "execution_count": 29,
   "id": "649c7b34",
   "metadata": {},
   "outputs": [
    {
     "data": {
      "text/plain": [
       "[-1.2803743629039557, -1.0418185183058095, -0.04484730816451373]"
      ]
     },
     "execution_count": 29,
     "metadata": {},
     "output_type": "execute_result"
    }
   ],
   "source": [
    "z1 = np.random.normal()\n",
    "z2 = np.random.normal()\n",
    "z3 = np.random.normal()\n",
    "z = [z1, z2, z3]\n",
    "z"
   ]
  },
  {
   "cell_type": "code",
   "execution_count": 43,
   "id": "01744c60",
   "metadata": {},
   "outputs": [
    {
     "data": {
      "text/plain": [
       "array([[  9.58933649,  21.99507468, -58.00588749],\n",
       "       [ 14.44696724,  29.90961812, -63.17812904],\n",
       "       [ 11.5759695 ,  24.96173508, -52.18911019],\n",
       "       ...,\n",
       "       [ 11.16596142,  18.65971535, -55.16487334],\n",
       "       [  6.14128189,   8.49227965, -29.69754505],\n",
       "       [  6.56399943,  11.17344231, -35.37110786]])"
      ]
     },
     "execution_count": 43,
     "metadata": {},
     "output_type": "execute_result"
    }
   ],
   "source": [
    "Z = np.zeros((2000, 3))\n",
    "for i in range(2000):\n",
    "    z = np.random.normal(size=3)\n",
    "    x = mu + L.dot(z)\n",
    "    Z[i, :] = x\n",
    "Z"
   ]
  },
  {
   "cell_type": "markdown",
   "id": "08148894",
   "metadata": {},
   "source": [
    "Percebe-se que as médias obtidas são similares."
   ]
  },
  {
   "cell_type": "code",
   "execution_count": 45,
   "id": "10b5402d",
   "metadata": {},
   "outputs": [
    {
     "name": "stdout",
     "output_type": "stream",
     "text": [
      "mu = (10.040001016248024, 20.127472775249416, -50.195755129368365)\n"
     ]
    }
   ],
   "source": [
    "print(f'mu = ({np.mean(Z[:,0])}, {np.mean(Z[:,1])}, {np.mean(Z[:,2])})')"
   ]
  },
  {
   "cell_type": "code",
   "execution_count": 46,
   "id": "7b446755",
   "metadata": {},
   "outputs": [
    {
     "data": {
      "text/plain": [
       "array([[  4.16099843,   9.14296378, -14.15141508],\n",
       "       [  9.14296378,  29.63469401, -42.42932652],\n",
       "       [-14.15141508, -42.42932652,  89.48203604]])"
      ]
     },
     "execution_count": 46,
     "metadata": {},
     "output_type": "execute_result"
    }
   ],
   "source": [
    "S = np.zeros((3, 3))\n",
    "for i in range(3):\n",
    "    for j in range(3):\n",
    "        mui = np.mean(Z[:, i])\n",
    "        muj = np.mean(Z[:, j])\n",
    "        soma = np.sum((Z[:, i] - mui) * (Z[:, j] - muj))\n",
    "        S[i][j] = soma / 2000\n",
    "S"
   ]
  },
  {
   "cell_type": "markdown",
   "id": "ce481643",
   "metadata": {},
   "source": [
    "## Questão 4.\n",
    "\n",
    " Usando a distribuição de X do problema anterior, seja b um vetor k-dimensional e C uma matriz\n",
    "k × 3 formada por constantes. Uma das propriedades da normal multivariada é que a distribuição\n",
    "do vetor b + CX de dimensão k é normal com vetor de médias b + C$\\mu$ e matriz de k×k covariância\n",
    "$C\\Sigma C^{t}$\n",
    ". Use esta propriedade para obter a distribuição das seguintes variáveis:\n",
    "\n",
    "* Distribuição marginal de $X_{1}$, de $X_{2}$ e de $X_{3}$.\n",
    "* Distribuição de um indicador composto pelas 3 variáveis: $T = 0.4X_{1} + 0.3X_{2} + 0.3X_{3}$.\n",
    "* Distribuição de um indicador composto pelas 3 variáveis normalizadas: $T = 0.4(X_{1} − 10)/2 + 0.3(X_{2} − 20)/ \\sqrt{30} + 0.3(X_{3} + 50)/ \\sqrt{94}$\n",
    "* Distribuição conjunta de $(X_{1} − X_{2}, 4X_{1} + 2X_{2} − X_{3})$.\n",
    "* Distribuição conjunta de $(X_{1}, aX_{1} + bX_{2} + cX_{3})$. onde a, b, c são constantes reais. Em particular, encontre a covariância entre X1 e o indicador $Y = aX_{1} + bX_{2} + cX_{3}$ formado pela\n",
    "combinação linear de $X_{1}$, $X_{2}$ e $X_{3}$.\n"
   ]
  },
  {
   "cell_type": "markdown",
   "id": "df092152",
   "metadata": {},
   "source": [
    "1. $X_{1}$ = N(10, 4)\n",
    "$X_{2}$ = N(20, 30)\n",
    "$X_{3}$ = N(-50, 94)\n",
    "\n",
    "2. $\\mu = (0.4, 0.3, 0.3) * (10, 20, -50) = -5$\n",
    "\n",
    "    $\\sigma = (0.4, 0.3, 0.3) * \\Sigma * (0.4, 0.3, 0.3) = 2.68$\n",
    "    \n",
    "    $T = N(-5, 2.68)$\n",
    "    \n",
    "3. Basta aplicar o mesmo raciocínio, onde $b = (-2, \\frac{-6}{\\sqrt{30}}, \\frac{15}{\\sqrt{94}})$ e $C = (0.2, \\frac{0.3}{\\sqrt{30}}, \\frac{0.3}{\\sqrt{94}})$"
   ]
  },
  {
   "cell_type": "code",
   "execution_count": 47,
   "id": "1859cc4b",
   "metadata": {},
   "outputs": [
    {
     "data": {
      "text/plain": [
       "2.6799999999999993"
      ]
     },
     "execution_count": 47,
     "metadata": {},
     "output_type": "execute_result"
    }
   ],
   "source": [
    "C = np.array([0.4, 0.3, 0.3])\n",
    "res = C.dot(sigma).dot(np.transpose(C))\n",
    "res"
   ]
  }
 ],
 "metadata": {
  "kernelspec": {
   "display_name": "Python 3 (ipykernel)",
   "language": "python",
   "name": "python3"
  },
  "language_info": {
   "codemirror_mode": {
    "name": "ipython",
    "version": 3
   },
   "file_extension": ".py",
   "mimetype": "text/x-python",
   "name": "python",
   "nbconvert_exporter": "python",
   "pygments_lexer": "ipython3",
   "version": "3.10.4"
  }
 },
 "nbformat": 4,
 "nbformat_minor": 5
}
