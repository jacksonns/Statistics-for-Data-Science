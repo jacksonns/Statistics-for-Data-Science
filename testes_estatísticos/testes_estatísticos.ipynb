{
 "cells": [
  {
   "cell_type": "markdown",
   "id": "e98c12e8",
   "metadata": {},
   "source": [
    "# Testes Estatísticos"
   ]
  },
  {
   "cell_type": "code",
   "execution_count": 33,
   "id": "27227fd9",
   "metadata": {},
   "outputs": [],
   "source": [
    "import numpy as np\n",
    "from scipy import stats\n",
    "import matplotlib.pyplot as plt\n",
    "import pandas as pd"
   ]
  },
  {
   "cell_type": "markdown",
   "id": "cce8e24b",
   "metadata": {},
   "source": [
    "### Qui-Quadrado"
   ]
  },
  {
   "cell_type": "markdown",
   "id": "912f90f9",
   "metadata": {},
   "source": [
    "### Exercício 1."
   ]
  },
  {
   "cell_type": "markdown",
   "id": "068d1572",
   "metadata": {},
   "source": [
    "a) Obtendo dados e Valor esperado"
   ]
  },
  {
   "cell_type": "code",
   "execution_count": 4,
   "id": "6316a0c2",
   "metadata": {},
   "outputs": [],
   "source": [
    "k = np.arange(9)\n",
    "OBS = np.array([215, 1485, 5331, 10649, 14959, 11929, 6678, 2092, 342])\n",
    "ESP = np.array([165.22, 1401.69, 5202.65, 11034.65, 14627.60, 12409.87, 6580.24, 1993.78, 264.30])"
   ]
  },
  {
   "cell_type": "code",
   "execution_count": 29,
   "id": "ac6e99d6",
   "metadata": {},
   "outputs": [],
   "source": [
    "theta = 0.51"
   ]
  },
  {
   "cell_type": "code",
   "execution_count": 32,
   "id": "39ef2d7d",
   "metadata": {},
   "outputs": [
    {
     "data": {
      "text/plain": [
       "[178.39437129761814,\n",
       " 1485.4061936618043,\n",
       " 5411.122562625125,\n",
       " 11263.9694160768,\n",
       " 14654.654087242783,\n",
       " 12202.242586928678,\n",
       " 6350.146652381254,\n",
       " 1888.3818033320351,\n",
       " 245.6823264539126]"
      ]
     },
     "execution_count": 32,
     "metadata": {},
     "output_type": "execute_result"
    }
   ],
   "source": [
    "ESP_values = [stats.binom.pmf(i, 8, theta)*53680 for i in k]\n",
    "ESP_values"
   ]
  },
  {
   "cell_type": "markdown",
   "id": "8c94f464",
   "metadata": {},
   "source": [
    "b) Qui-quadrado $X^2 = \\sum_{k} \\frac{(N_{K} - E_{k})^2}{E_{k}} $"
   ]
  },
  {
   "cell_type": "code",
   "execution_count": 6,
   "id": "f5d96d5e",
   "metadata": {},
   "outputs": [
    {
     "data": {
      "text/plain": [
       "91.8694734521381"
      ]
     },
     "execution_count": 6,
     "metadata": {},
     "output_type": "execute_result"
    }
   ],
   "source": [
    "X2 = np.sum(np.power(OBS - ESP, 2) / ESP)\n",
    "X2"
   ]
  },
  {
   "cell_type": "markdown",
   "id": "d82a1977",
   "metadata": {},
   "source": [
    "c) Distribuição de referência dessa estatística é a Binomial(n, $\\theta$)"
   ]
  },
  {
   "cell_type": "markdown",
   "id": "3b5aa035",
   "metadata": {},
   "source": [
    "d) p-valor"
   ]
  },
  {
   "cell_type": "code",
   "execution_count": 7,
   "id": "7537a117",
   "metadata": {},
   "outputs": [
    {
     "data": {
      "text/plain": [
       "0.0"
      ]
     },
     "execution_count": 7,
     "metadata": {},
     "output_type": "execute_result"
    }
   ],
   "source": [
    "cumulative = stats.chi2.cdf(X2, 7)\n",
    "p_valor = 1 - cumulative\n",
    "p_valor"
   ]
  },
  {
   "cell_type": "markdown",
   "id": "ea99cc40",
   "metadata": {},
   "source": [
    "### Exercício 2.\n"
   ]
  },
  {
   "cell_type": "markdown",
   "id": "c8f71f3b",
   "metadata": {},
   "source": [
    "**A)** Para estimar lambda da distribuição de poisson pode-se retirar a média dos valores observados.\n",
    "\n",
    "$\\lambda = E(X) \\approx \\overline{X} = \\frac{0\\cdot0 + 1\\cdot20 + 2\\cdot43  + ... 16\\cdot0}{400}$\n",
    "\n",
    "Tendo $\\lambda$ e $k$, podemos calcular os valores esperados através de:\n",
    "\n",
    "$P(X=k) = \\frac{\\lambda^k e^{-\\lambda}}{k!}$ \n",
    "\n",
    "$E(X=k) = 400 \\cdot P(X=k)$\n",
    "\n",
    "Os valores obtidos, como é possível ver abaixo, são muito próximos dos valores esperados fornecidos na tabela"
   ]
  },
  {
   "cell_type": "code",
   "execution_count": 12,
   "id": "55b08c3f",
   "metadata": {},
   "outputs": [],
   "source": [
    "k = np.arange(17)\n",
    "OBS = np.array([0, 20, 43, 53, 86, 70, 54, 37, 18, 10, 5, 2, 2, 0, 0, 0, 0])\n",
    "ESP = np.array([3.71, 17.37, 40.65, 63.41, 74.19, 69.44, 54.16, 36.21, 21.18, 11.02, 5.16, 2.19, 0.86, 0.31,0.10, 0.03, 0.03])"
   ]
  },
  {
   "cell_type": "code",
   "execution_count": 18,
   "id": "bc28140c",
   "metadata": {},
   "outputs": [
    {
     "data": {
      "text/plain": [
       "4.68"
      ]
     },
     "execution_count": 18,
     "metadata": {},
     "output_type": "execute_result"
    }
   ],
   "source": [
    "lambda_ = np.sum(k*OBS) / 400\n",
    "lambda_"
   ]
  },
  {
   "cell_type": "code",
   "execution_count": 20,
   "id": "ab07545e",
   "metadata": {},
   "outputs": [
    {
     "data": {
      "text/plain": [
       "[3.7116055548258977,\n",
       " 17.3703139965852,\n",
       " 40.64653475200936,\n",
       " 63.40859421313459,\n",
       " 74.18805522936746,\n",
       " 69.44001969468796,\n",
       " 54.16321536185659,\n",
       " 36.2119782704984,\n",
       " 21.184007288241553,\n",
       " 11.01568378988562,\n",
       " 5.155340013666463,\n",
       " 2.193362842178095,\n",
       " 0.8554115084494589,\n",
       " 0.3079481430418053,\n",
       " 0.10294266495968882,\n",
       " 0.03211811146742289,\n",
       " 0.009394547604221192]"
      ]
     },
     "execution_count": 20,
     "metadata": {},
     "output_type": "execute_result"
    }
   ],
   "source": [
    "ESP_values = [stats.poisson.pmf(i, lambda_)*400 for i in k]\n",
    "ESP_values"
   ]
  },
  {
   "cell_type": "markdown",
   "id": "5cfbad1d",
   "metadata": {},
   "source": [
    "**B)** A estatística qui-quadrado é igual a 10.43 (cálculo abaixo)"
   ]
  },
  {
   "cell_type": "code",
   "execution_count": 6,
   "id": "7c83372d",
   "metadata": {},
   "outputs": [
    {
     "data": {
      "text/plain": [
       "10.429749064734294"
      ]
     },
     "execution_count": 6,
     "metadata": {},
     "output_type": "execute_result"
    }
   ],
   "source": [
    "X2 = np.sum(np.power(OBS - ESP, 2) / ESP)\n",
    "X2"
   ]
  },
  {
   "cell_type": "markdown",
   "id": "9f8745cb",
   "metadata": {},
   "source": [
    "**C)** Com grau de liberade igual $k = 17-1-1 = 15$, obtem-se o p-valor igual a 0.79. Portanto, pode-se dizer que os dados são compatíveis com a hipótese."
   ]
  },
  {
   "cell_type": "code",
   "execution_count": 7,
   "id": "5c42510f",
   "metadata": {},
   "outputs": [
    {
     "data": {
      "text/plain": [
       "0.7918726742268025"
      ]
     },
     "execution_count": 7,
     "metadata": {},
     "output_type": "execute_result"
    }
   ],
   "source": [
    "cumulative = stats.chi2.cdf(X2, 15)\n",
    "p_valor = 1 - cumulative\n",
    "p_valor"
   ]
  },
  {
   "cell_type": "markdown",
   "id": "e66c0d9c",
   "metadata": {},
   "source": [
    "## Teste de Kolmogorov-Smirnov\n"
   ]
  },
  {
   "cell_type": "markdown",
   "id": "5ff20ebe",
   "metadata": {},
   "source": [
    "### Exercício 1.\n",
    "\n",
    "Simulação do Teste de Kolmogorov-Smirnov."
   ]
  },
  {
   "cell_type": "code",
   "execution_count": 8,
   "id": "e667c974",
   "metadata": {},
   "outputs": [],
   "source": [
    "D = []\n",
    "p_value = []\n",
    "for _ in range(1000):\n",
    "    x = np.random.normal(0, 1, 100)\n",
    "    res = stats.kstest(x, stats.norm.cdf)\n",
    "    D.append(res[0])\n",
    "    p_value.append(res[1])"
   ]
  },
  {
   "cell_type": "code",
   "execution_count": 9,
   "id": "2d996715",
   "metadata": {},
   "outputs": [
    {
     "data": {
      "image/png": "[encoded data removed]",
      "text/plain": [
       "<Figure size 432x288 with 1 Axes>"
      ]
     },
     "metadata": {
      "needs_background": "light"
     },
     "output_type": "display_data"
    }
   ],
   "source": [
    "plt.hist(D)\n",
    "plt.title('Histograma dos valores de D')\n",
    "plt.show()"
   ]
  },
  {
   "cell_type": "code",
   "execution_count": 10,
   "id": "d7e5fffe",
   "metadata": {},
   "outputs": [
    {
     "data": {
      "image/png": "[encoded data removed]",
      "text/plain": [
       "<Figure size 432x288 with 1 Axes>"
      ]
     },
     "metadata": {
      "needs_background": "light"
     },
     "output_type": "display_data"
    }
   ],
   "source": [
    "plt.hist(p_value)\n",
    "plt.title('Histograma dos valores do p_valor')\n",
    "plt.show()"
   ]
  },
  {
   "cell_type": "markdown",
   "id": "d4a29576",
   "metadata": {},
   "source": [
    "0.046 dos p_valores simulados ficaram abaixo de 0.05"
   ]
  },
  {
   "cell_type": "code",
   "execution_count": 11,
   "id": "0181395a",
   "metadata": {},
   "outputs": [
    {
     "data": {
      "text/plain": [
       "0.046"
      ]
     },
     "execution_count": 11,
     "metadata": {},
     "output_type": "execute_result"
    }
   ],
   "source": [
    "proportion = len([x for x in set(p_value) if x < 0.05]) / 1000\n",
    "proportion"
   ]
  },
  {
   "cell_type": "markdown",
   "id": "eb4bf1f0",
   "metadata": {},
   "source": [
    "### Exercício 2.\n"
   ]
  },
  {
   "cell_type": "markdown",
   "id": "0cd5ea9f",
   "metadata": {},
   "source": [
    "Dados de tamanhos dos arquivos em uma pasta contendo alguns dos trabalhos desenvolvidos durante o curso de Ciência da Computação. O comando utilizado para coletar os dados foi:\n",
    "\n",
    "```console\n",
    "(@For /F \"Delims=\" %A in ('dir Documents /B/S/A-D') Do @Echo %~fA,%~zA) > doc_files.csv\n",
    "```\n",
    "\n",
    "Isso gera um arquivo csv contendo duas colunas separadas por vírgula: nome e tamanho do arquivo em Bytes. Ao todo, tem 32456 linhas."
   ]
  },
  {
   "cell_type": "code",
   "execution_count": 64,
   "id": "fe09ad32",
   "metadata": {},
   "outputs": [
    {
     "data": {
      "text/html": [
       "<div>\n",
       "<style scoped>\n",
       "    .dataframe tbody tr th:only-of-type {\n",
       "        vertical-align: middle;\n",
       "    }\n",
       "\n",
       "    .dataframe tbody tr th {\n",
       "        vertical-align: top;\n",
       "    }\n",
       "\n",
       "    .dataframe thead th {\n",
       "        text-align: right;\n",
       "    }\n",
       "</style>\n",
       "<table border=\"1\" class=\"dataframe\">\n",
       "  <thead>\n",
       "    <tr style=\"text-align: right;\">\n",
       "      <th></th>\n",
       "      <th>0</th>\n",
       "      <th>1</th>\n",
       "    </tr>\n",
       "  </thead>\n",
       "  <tbody>\n",
       "    <tr>\n",
       "      <th>0</th>\n",
       "      <td>C:\\Users\\Jackson\\Documents\\Arquivos no meu com...</td>\n",
       "      <td>714</td>\n",
       "    </tr>\n",
       "    <tr>\n",
       "      <th>1</th>\n",
       "      <td>C:\\Users\\Jackson\\Documents\\Meus arquivos no Dr...</td>\n",
       "      <td>845</td>\n",
       "    </tr>\n",
       "    <tr>\n",
       "      <th>2</th>\n",
       "      <td>C:\\Users\\Jackson\\Documents\\Algebra A\\a.exe</td>\n",
       "      <td>152598</td>\n",
       "    </tr>\n",
       "    <tr>\n",
       "      <th>3</th>\n",
       "      <td>C:\\Users\\Jackson\\Documents\\Algebra A\\tp1.c</td>\n",
       "      <td>1027</td>\n",
       "    </tr>\n",
       "    <tr>\n",
       "      <th>4</th>\n",
       "      <td>C:\\Users\\Jackson\\Documents\\Algebra A\\tp1.o</td>\n",
       "      <td>1636</td>\n",
       "    </tr>\n",
       "  </tbody>\n",
       "</table>\n",
       "</div>"
      ],
      "text/plain": [
       "                                                   0       1\n",
       "0  C:\\Users\\Jackson\\Documents\\Arquivos no meu com...     714\n",
       "1  C:\\Users\\Jackson\\Documents\\Meus arquivos no Dr...     845\n",
       "2         C:\\Users\\Jackson\\Documents\\Algebra A\\a.exe  152598\n",
       "3         C:\\Users\\Jackson\\Documents\\Algebra A\\tp1.c    1027\n",
       "4         C:\\Users\\Jackson\\Documents\\Algebra A\\tp1.o    1636"
      ]
     },
     "execution_count": 64,
     "metadata": {},
     "output_type": "execute_result"
    }
   ],
   "source": [
    "df = pd.read_csv('doc_files.csv', encoding='windows-1252', header=None)\n",
    "df.head()"
   ]
  },
  {
   "cell_type": "code",
   "execution_count": 65,
   "id": "e4a011a9",
   "metadata": {},
   "outputs": [
    {
     "data": {
      "text/plain": [
       "(32456, 2)"
      ]
     },
     "execution_count": 65,
     "metadata": {},
     "output_type": "execute_result"
    }
   ],
   "source": [
    "df.shape"
   ]
  },
  {
   "cell_type": "code",
   "execution_count": 66,
   "id": "c0c94937",
   "metadata": {},
   "outputs": [
    {
     "name": "stdout",
     "output_type": "stream",
     "text": [
      "0\n",
      "368696618\n"
     ]
    }
   ],
   "source": [
    "min_size = df[1].values.min()\n",
    "max_size = df[1].values.max()\n",
    "print(min_size)\n",
    "print(max_size)"
   ]
  },
  {
   "cell_type": "markdown",
   "id": "5a8aea9c",
   "metadata": {},
   "source": [
    "Ao agrupar os arquivos em intervalos de tamanho e fazer a contagem, percebe-se que existe um único arquivo muito grande que está atrapalhando a distribuição, então optei por removê-lo"
   ]
  },
  {
   "cell_type": "code",
   "execution_count": 67,
   "id": "e7679859",
   "metadata": {},
   "outputs": [
    {
     "data": {
      "text/plain": [
       "(-368696.619, 12289887.267]       32434\n",
       "(12289887.267, 24579774.533]          4\n",
       "(24579774.533, 36869661.8]           11\n",
       "(36869661.8, 49159549.067]            6\n",
       "(49159549.067, 61449436.333]          0\n",
       "(61449436.333, 73739323.6]            0\n",
       "(73739323.6, 86029210.867]            0\n",
       "(86029210.867, 98319098.133]          0\n",
       "(98319098.133, 110608985.4]           0\n",
       "(110608985.4, 122898872.667]          0\n",
       "(122898872.667, 135188759.933]        0\n",
       "(135188759.933, 147478647.2]          0\n",
       "(147478647.2, 159768534.467]          0\n",
       "(159768534.467, 172058421.733]        0\n",
       "(172058421.733, 184348309.0]          0\n",
       "(184348309.0, 196638196.267]          0\n",
       "(196638196.267, 208928083.533]        0\n",
       "(208928083.533, 221217970.8]          0\n",
       "(221217970.8, 233507858.067]          0\n",
       "(233507858.067, 245797745.333]        0\n",
       "(245797745.333, 258087632.6]          0\n",
       "(258087632.6, 270377519.867]          0\n",
       "(270377519.867, 282667407.133]        0\n",
       "(282667407.133, 294957294.4]          0\n",
       "(294957294.4, 307247181.667]          0\n",
       "(307247181.667, 319537068.933]        0\n",
       "(319537068.933, 331826956.2]          0\n",
       "(331826956.2, 344116843.467]          0\n",
       "(344116843.467, 356406730.733]        0\n",
       "(356406730.733, 368696618.0]          1\n",
       "Name: 1, dtype: int64"
      ]
     },
     "execution_count": 67,
     "metadata": {},
     "output_type": "execute_result"
    }
   ],
   "source": [
    "sample = df[1].value_counts(bins=30, sort=False)\n",
    "sample"
   ]
  },
  {
   "cell_type": "code",
   "execution_count": 68,
   "id": "d0a20f6e",
   "metadata": {},
   "outputs": [],
   "source": [
    "new_df = df.drop(df[df[1] > 61449436].index)"
   ]
  },
  {
   "cell_type": "code",
   "execution_count": 69,
   "id": "b8dda990",
   "metadata": {},
   "outputs": [
    {
     "data": {
      "text/plain": [
       "(-46040.94899999999, 1534698.267]    32379\n",
       "(1534698.267, 3069396.533]              17\n",
       "(3069396.533, 4604094.8]                 7\n",
       "(4604094.8, 6138793.067]                 0\n",
       "(6138793.067, 7673491.333]               0\n",
       "(7673491.333, 9208189.6]                31\n",
       "(9208189.6, 10742887.867]                0\n",
       "(10742887.867, 12277586.133]             0\n",
       "(12277586.133, 13812284.4]               3\n",
       "(13812284.4, 15346982.667]               0\n",
       "(15346982.667, 16881680.933]             0\n",
       "(16881680.933, 18416379.2]               0\n",
       "(18416379.2, 19951077.467]               1\n",
       "(19951077.467, 21485775.733]             0\n",
       "(21485775.733, 23020474.0]               0\n",
       "(23020474.0, 24555172.267]               0\n",
       "(24555172.267, 26089870.533]            10\n",
       "(26089870.533, 27624568.8]               0\n",
       "(27624568.8, 29159267.067]               0\n",
       "(29159267.067, 30693965.333]             0\n",
       "(30693965.333, 32228663.6]               0\n",
       "(32228663.6, 33763361.867]               0\n",
       "(33763361.867, 35298060.133]             0\n",
       "(35298060.133, 36832758.4]               1\n",
       "(36832758.4, 38367456.667]               0\n",
       "(38367456.667, 39902154.933]             0\n",
       "(39902154.933, 41436853.2]               0\n",
       "(41436853.2, 42971551.467]               2\n",
       "(42971551.467, 44506249.733]             2\n",
       "(44506249.733, 46040948.0]               2\n",
       "Name: 1, dtype: int64"
      ]
     },
     "execution_count": 69,
     "metadata": {},
     "output_type": "execute_result"
    }
   ],
   "source": [
    "sample = new_df[1].value_counts(bins=30, sort=False)\n",
    "sample"
   ]
  },
  {
   "cell_type": "markdown",
   "id": "06041433",
   "metadata": {},
   "source": [
    "Há muitos arquivos concentrados em um único intervalo, talvez siga uma distribuição Pareto (Não sei como comparar nesse caso, visto que P(k=0) = 0 na Pareto"
   ]
  },
  {
   "cell_type": "code",
   "execution_count": 98,
   "id": "bb154d29",
   "metadata": {},
   "outputs": [],
   "source": [
    "OBS = np.asarray(sample)\n",
    "k = np.arange(OBS.size)\n",
    "ESP = np.array([(stats.pareto.pdf(i, 1)*32455) for i in k])"
   ]
  },
  {
   "cell_type": "code",
   "execution_count": 99,
   "id": "be4f8599",
   "metadata": {},
   "outputs": [
    {
     "data": {
      "text/plain": [
       "array([    0.        , 32455.        ,  8113.75      ,  3606.11111111,\n",
       "        2028.4375    ,  1298.2       ,   901.52777778,   662.34693878,\n",
       "         507.109375  ,   400.67901235,   324.55      ,   268.2231405 ,\n",
       "         225.38194444,   192.04142012,   165.58673469,   144.24444444,\n",
       "         126.77734375,   112.30103806,   100.16975309,    89.90304709,\n",
       "          81.1375    ,    73.59410431,    67.05578512,    61.35160681,\n",
       "          56.34548611,    51.928     ,    48.01035503,    44.51989026,\n",
       "          41.39668367,    38.59096314])"
      ]
     },
     "execution_count": 99,
     "metadata": {},
     "output_type": "execute_result"
    }
   ],
   "source": [
    "ESP"
   ]
  },
  {
   "cell_type": "code",
   "execution_count": 100,
   "id": "0e3f9067",
   "metadata": {},
   "outputs": [
    {
     "name": "stderr",
     "output_type": "stream",
     "text": [
      "C:\\Users\\Jackson\\AppData\\Local\\Temp\\ipykernel_103396\\2916991136.py:1: RuntimeWarning: divide by zero encountered in true_divide\n",
      "  X2 = np.sum(np.power(OBS - ESP, 2) / ESP)\n"
     ]
    },
    {
     "data": {
      "text/plain": [
       "inf"
      ]
     },
     "execution_count": 100,
     "metadata": {},
     "output_type": "execute_result"
    }
   ],
   "source": [
    "X2 = np.sum(np.power(OBS - ESP, 2) / ESP)\n",
    "X2"
   ]
  },
  {
   "cell_type": "markdown",
   "id": "ea643e3a",
   "metadata": {},
   "source": [
    "### Exercício 3.\n"
   ]
  },
  {
   "cell_type": "markdown",
   "id": "7591d7dd",
   "metadata": {},
   "source": [
    "a) Estimando $E(X)$ através da média"
   ]
  },
  {
   "cell_type": "code",
   "execution_count": 109,
   "id": "a8551f53",
   "metadata": {},
   "outputs": [],
   "source": [
    "N = 537\n",
    "k = np.arange(6)\n",
    "OBS = np.array([229, 211, 93, 35, 7, 1])"
   ]
  },
  {
   "cell_type": "code",
   "execution_count": 113,
   "id": "3ad08499",
   "metadata": {},
   "outputs": [
    {
     "data": {
      "text/plain": [
       "0.9288194444444444"
      ]
     },
     "execution_count": 113,
     "metadata": {},
     "output_type": "execute_result"
    }
   ],
   "source": [
    "EX = np.sum(k*OBS) / 576\n",
    "EX"
   ]
  },
  {
   "cell_type": "code",
   "execution_count": 114,
   "id": "6bea6630",
   "metadata": {},
   "outputs": [],
   "source": [
    "theta = 0.696"
   ]
  },
  {
   "cell_type": "markdown",
   "id": "48506394",
   "metadata": {},
   "source": [
    "b) Obtendo valores esperados"
   ]
  },
  {
   "cell_type": "code",
   "execution_count": 118,
   "id": "12844a31",
   "metadata": {},
   "outputs": [],
   "source": [
    "def log_pmf(k, theta):\n",
    "    return (-1/np.log(1-theta))*(theta**k)/k"
   ]
  },
  {
   "cell_type": "code",
   "execution_count": 119,
   "id": "41a837c8",
   "metadata": {},
   "outputs": [
    {
     "data": {
      "text/plain": [
       "[336.6815445864994,\n",
       " 117.16517751610179,\n",
       " 54.36464236747123,\n",
       " 28.37834331581998,\n",
       " 15.801061558248561,\n",
       " 9.164615703784166]"
      ]
     },
     "execution_count": 119,
     "metadata": {},
     "output_type": "execute_result"
    }
   ],
   "source": [
    "ESP_values = [log_pmf(i, theta)*576 for i in k+1]\n",
    "ESP_values"
   ]
  },
  {
   "cell_type": "markdown",
   "id": "d87a35c1",
   "metadata": {},
   "source": [
    "c) Qui-quadrado. Resultado de 150.77"
   ]
  },
  {
   "cell_type": "code",
   "execution_count": 120,
   "id": "b5244f11",
   "metadata": {},
   "outputs": [
    {
     "data": {
      "text/plain": [
       "150.76802966590856"
      ]
     },
     "execution_count": 120,
     "metadata": {},
     "output_type": "execute_result"
    }
   ],
   "source": [
    "X2 = np.sum(np.power(OBS - ESP_values, 2) / ESP_values)\n",
    "X2"
   ]
  },
  {
   "cell_type": "markdown",
   "id": "1a334ea5",
   "metadata": {},
   "source": [
    "d) p-valor igual a 0. Amostra não se ajusta"
   ]
  },
  {
   "cell_type": "code",
   "execution_count": 122,
   "id": "a66df2bb",
   "metadata": {},
   "outputs": [
    {
     "data": {
      "text/plain": [
       "0.0"
      ]
     },
     "execution_count": 122,
     "metadata": {},
     "output_type": "execute_result"
    }
   ],
   "source": [
    "cumulative = stats.chi2.cdf(X2, 4)\n",
    "p_valor = 1 - cumulative\n",
    "p_valor"
   ]
  },
  {
   "cell_type": "markdown",
   "id": "a1f46cb5",
   "metadata": {},
   "source": [
    "### Exercício 4.\n"
   ]
  },
  {
   "cell_type": "markdown",
   "id": "5ffffde5",
   "metadata": {},
   "source": [
    "O valor esperado da uniforme é 608/10 = 60,8 para todo k. O qui-quadrado é igual a 7.5 e, com 9 graus de liberdade, obtemos um p-valor de 0.58 > 0.05, portanto podemos afirmar que segue uma distribuição uniforme"
   ]
  },
  {
   "cell_type": "code",
   "execution_count": 124,
   "id": "eea156ea",
   "metadata": {},
   "outputs": [],
   "source": [
    "k = np.arange(10)\n",
    "OBS = np.array([60, 62, 67, 68, 64, 56, 62, 44, 58, 67])\n",
    "ESP = np.array([60.8 for _ in range(k.size)])\n",
    "N = 608"
   ]
  },
  {
   "cell_type": "code",
   "execution_count": 126,
   "id": "e5d3e1fa",
   "metadata": {},
   "outputs": [
    {
     "data": {
      "text/plain": [
       "7.493421052631579"
      ]
     },
     "execution_count": 126,
     "metadata": {},
     "output_type": "execute_result"
    }
   ],
   "source": [
    "X2 = np.sum(np.power(OBS - ESP, 2) / ESP)\n",
    "X2"
   ]
  },
  {
   "cell_type": "code",
   "execution_count": 127,
   "id": "c08e3c69",
   "metadata": {},
   "outputs": [
    {
     "data": {
      "text/plain": [
       "0.5858880273157883"
      ]
     },
     "execution_count": 127,
     "metadata": {},
     "output_type": "execute_result"
    }
   ],
   "source": [
    "cumulative = stats.chi2.cdf(X2, 9)\n",
    "p_valor = 1 - cumulative\n",
    "p_valor"
   ]
  }
 ],
 "metadata": {
  "kernelspec": {
   "display_name": "Python 3 (ipykernel)",
   "language": "python",
   "name": "python3"
  },
  "language_info": {
   "codemirror_mode": {
    "name": "ipython",
    "version": 3
   },
   "file_extension": ".py",
   "mimetype": "text/x-python",
   "name": "python",
   "nbconvert_exporter": "python",
   "pygments_lexer": "ipython3",
   "version": "3.10.4"
  }
 },
 "nbformat": 4,
 "nbformat_minor": 5
}
