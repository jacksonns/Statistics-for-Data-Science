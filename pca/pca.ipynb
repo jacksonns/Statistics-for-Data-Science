{
 "cells": [
  {
   "cell_type": "markdown",
   "id": "45811f58",
   "metadata": {},
   "source": [
    "# PCA para Reconhecimento de dígitos"
   ]
  },
  {
   "cell_type": "code",
   "execution_count": 1,
   "id": "b53eefbe",
   "metadata": {},
   "outputs": [],
   "source": [
    "import gzip\n",
    "import pandas as pd\n",
    "import numpy as np\n",
    "from sklearn.decomposition import PCA\n",
    "import matplotlib.pyplot as plt"
   ]
  },
  {
   "cell_type": "markdown",
   "id": "81711ff0",
   "metadata": {},
   "source": [
    "## Dados de Teste"
   ]
  },
  {
   "cell_type": "code",
   "execution_count": 2,
   "id": "b7e66bcf",
   "metadata": {},
   "outputs": [],
   "source": [
    "# Dados de teste\n",
    "test_digits = [[] for _ in range(10)]\n",
    "\n",
    "with gzip.open('zip.test.gz','rb') as f: \n",
    "    for line in f.readlines():\n",
    "        elements = line.split()\n",
    "        idx = float(elements[0])\n",
    "        numbers = [float(element) for element in elements[1:]]\n",
    "        test_digits[int(idx)].append(numbers)"
   ]
  },
  {
   "cell_type": "code",
   "execution_count": 3,
   "id": "05cd254f",
   "metadata": {},
   "outputs": [],
   "source": [
    "N = 0\n",
    "for digit in test_digits:\n",
    "    N += len(digit)\n",
    "\n",
    "IMG_SIZE = 256\n",
    "\n",
    "mat_teste = np.zeros((IMG_SIZE, N))\n",
    "i = 0\n",
    "for digit in test_digits:\n",
    "    for img in digit:\n",
    "        mat_teste[:, i] = img\n",
    "        i += 1"
   ]
  },
  {
   "cell_type": "code",
   "execution_count": 4,
   "id": "b730a641",
   "metadata": {},
   "outputs": [
    {
     "data": {
      "text/plain": [
       "(256, 2007)"
      ]
     },
     "execution_count": 4,
     "metadata": {},
     "output_type": "execute_result"
    }
   ],
   "source": [
    "mat_teste.shape"
   ]
  },
  {
   "cell_type": "markdown",
   "id": "4f323290",
   "metadata": {},
   "source": [
    "## Dados de Treino"
   ]
  },
  {
   "cell_type": "code",
   "execution_count": 5,
   "id": "51970f17",
   "metadata": {},
   "outputs": [],
   "source": [
    "# Dados de treino\n",
    "digits = [[] for _ in range(10)]\n",
    "\n",
    "with gzip.open('zip.train.gz','rb') as f: \n",
    "    for line in f.readlines():\n",
    "        elements = line.split()\n",
    "        idx = float(elements[0])\n",
    "        numbers = [float(element) for element in elements[1:]]\n",
    "        digits[int(idx)].append(numbers)"
   ]
  },
  {
   "cell_type": "code",
   "execution_count": 6,
   "id": "81ca6510",
   "metadata": {},
   "outputs": [],
   "source": [
    "# Obtendo matriz de pixels onde cada coluna é uma imagem.\n",
    "# Matriz de tamanho (256, 7291)\n",
    "\n",
    "N = 0\n",
    "for digit in digits:\n",
    "    N += len(digit)\n",
    "\n",
    "IMG_SIZE = 256\n",
    "\n",
    "mat_pixels = np.zeros((IMG_SIZE, N))\n",
    "i = 0\n",
    "for digit in digits:\n",
    "    for img in digit:\n",
    "        mat_pixels[:, i] = img\n",
    "        i += 1"
   ]
  },
  {
   "cell_type": "code",
   "execution_count": 7,
   "id": "4521fcc9",
   "metadata": {},
   "outputs": [
    {
     "data": {
      "image/png": "[encoded data removed]",
      "text/plain": [
       "<Figure size 432x288 with 1 Axes>"
      ]
     },
     "metadata": {
      "needs_background": "light"
     },
     "output_type": "display_data"
    }
   ],
   "source": [
    "# Plotando imagem aleatória\n",
    "digit_img = mat_pixels[:, 0].reshape((16, 16))\n",
    "plt.imshow(digit_img, cmap='gray', vmin=-1, vmax=1)\n",
    "plt.show()"
   ]
  },
  {
   "cell_type": "code",
   "execution_count": 8,
   "id": "119d2379",
   "metadata": {},
   "outputs": [],
   "source": [
    "# Obtendo a média de cada pixel para todas as imagens\n",
    "\n",
    "mat_media = np.mean(mat_pixels, axis=1)\n",
    "mat_media = np.reshape(mat_media, (-1, 1))"
   ]
  },
  {
   "cell_type": "code",
   "execution_count": 9,
   "id": "94576ec7",
   "metadata": {},
   "outputs": [],
   "source": [
    "# Subtraindo cada pixel da matriz de pixels pela média\n",
    "\n",
    "mat_centrada = mat_pixels - mat_media"
   ]
  },
  {
   "cell_type": "code",
   "execution_count": 10,
   "id": "07d6ae16",
   "metadata": {
    "scrolled": false
   },
   "outputs": [
    {
     "name": "stdout",
     "output_type": "stream",
     "text": [
      "Dados transformados:\n",
      " [[ 5.96417573e+00 -2.43858082e-01  7.26570938e+00 ...  1.27390104e-02\n",
      "  -1.23008690e-03 -1.84926156e-02]\n",
      " [ 3.98094770e+00 -3.04743457e-01 -6.35009482e+00 ...  3.50535710e-03\n",
      "   2.57526409e-03  3.01210925e-03]\n",
      " [ 7.69475808e+00 -9.94398295e-01 -7.08552205e-01 ...  9.78923048e-03\n",
      "   8.10869289e-03 -4.81231385e-03]\n",
      " ...\n",
      " [-1.82224615e+00  3.65590368e+00 -4.59893164e+00 ... -6.16014677e-03\n",
      "   2.80515320e-03  8.16767568e-04]\n",
      " [-3.29290555e+00  2.94707432e+00 -1.47724829e-01 ... -4.45025990e-03\n",
      "   1.56886711e-03  6.76551632e-04]\n",
      " [-2.71026526e+00  6.04657994e+00  7.00120506e-01 ...  6.03122769e-03\n",
      "   9.00852222e-03 -6.65708367e-03]]\n",
      "\n",
      "Componentes principais:\n",
      " [[-7.49436570e-05 -3.75198004e-04  5.97100964e-05 ...  3.27414017e-03\n",
      "   1.40775226e-03  3.07120479e-04]\n",
      " [ 1.09434690e-03  5.63882241e-03  1.29255631e-02 ...  1.71486592e-03\n",
      "   1.26625443e-03  3.59728661e-04]\n",
      " [ 4.73250403e-04  2.97608120e-03  4.58941948e-03 ...  1.68608228e-03\n",
      "   1.40628355e-03  3.58313407e-04]\n",
      " ...\n",
      " [ 5.92780476e-04  9.93730552e-03 -9.87562237e-03 ...  1.82463197e-01\n",
      "  -3.74611437e-01  8.73259342e-01]\n",
      " [ 8.87692673e-01 -2.60313098e-01  7.02860721e-02 ...  6.32936610e-03\n",
      "  -1.74636665e-03 -3.98852206e-03]\n",
      " [-1.70724410e-01  4.40764879e-02 -1.25654185e-02 ... -2.87754482e-03\n",
      "  -3.84109798e-03  4.36221530e-04]]\n",
      "\n",
      "Variância acumulada:\n",
      " [0.17884424 0.26851464 0.33423191 0.38977737 0.43891926 0.47743849\n",
      " 0.51014905 0.54085934 0.56652756 0.5908946  0.61266974 0.6328776\n",
      " 0.64991374 0.66460489 0.67876712 0.69174796 0.70399751 0.71552\n",
      " 0.72612983 0.73608162 0.7458579  0.75498881 0.7634183  0.77119955\n",
      " 0.77840328 0.785385   0.791709   0.79796986 0.80411828 0.80999819\n",
      " 0.81559892 0.8210432  0.82625594 0.83107923 0.8357988  0.84040553\n",
      " 0.8447586  0.84888292 0.85294608 0.85684569 0.86066624 0.86426619\n",
      " 0.86783134 0.87111713 0.87433333 0.87748633 0.88062028 0.88359209\n",
      " 0.8864565  0.88918805 0.89181688 0.89435906 0.89677805 0.89912859\n",
      " 0.9014044  0.9036568  0.90584342 0.90794691 0.91001465 0.91207342\n",
      " 0.91411697 0.91595839 0.91774233 0.91947335 0.92115611 0.9227938\n",
      " 0.92436075 0.92591837 0.92742352 0.92888357 0.93033286 0.93173651\n",
      " 0.93311432 0.93445414 0.93573444 0.93700843 0.93825755 0.93945808\n",
      " 0.94064851 0.94182008 0.94293255 0.9440357  0.94512799 0.94617331\n",
      " 0.94720742 0.94821843 0.94921295 0.95017403 0.95110365 0.95200669\n",
      " 0.95289348 0.95377048 0.95462154 0.95546287 0.95628775 0.95708793\n",
      " 0.95787951 0.95864983 0.95940905 0.96016315 0.96090691 0.96164325\n",
      " 0.96235584 0.96306393 0.96375136 0.96442654 0.9651001  0.96575893\n",
      " 0.96639869 0.96702576 0.96764267 0.96824153 0.9688287  0.96940947\n",
      " 0.96997529 0.97052537 0.97106954 0.97160757 0.97214064 0.97265748\n",
      " 0.97316801 0.97367256 0.9741638  0.97465099 0.97512723 0.97558881\n",
      " 0.97604425 0.97649439 0.97694113 0.9773846  0.97782102 0.97825051\n",
      " 0.97867704 0.97909056 0.97949587 0.97989656 0.98029121 0.98067603\n",
      " 0.98106068 0.98143869 0.98180824 0.98217294 0.98253272 0.98288324\n",
      " 0.98323279 0.98357683 0.98391477 0.98424891 0.98457305 0.98489485\n",
      " 0.98521162 0.98552572 0.98583493 0.98613949 0.98644238 0.98673618\n",
      " 0.98702844 0.98731469 0.98759792 0.9878744  0.98814146 0.98840498\n",
      " 0.98866638 0.98892486 0.98917895 0.98943173 0.98968085 0.98991991\n",
      " 0.99015621 0.99038933 0.9906195  0.99084745 0.99106576 0.99128249\n",
      " 0.99149865 0.99171006 0.99191891 0.99212669 0.99233096 0.99253413\n",
      " 0.9927349  0.99292834 0.99311814 0.99330597 0.99349049 0.99367407\n",
      " 0.99385386 0.99402916 0.99420099 0.99437189 0.99453937 0.99470654\n",
      " 0.9948702  0.99503194 0.9951909  0.99534921 0.99550383 0.99565261\n",
      " 0.99579856 0.99594349 0.99608486 0.99622366 0.99636035 0.99649342\n",
      " 0.99662421 0.99675362 0.9968802  0.99700396 0.99712484 0.9972437\n",
      " 0.99736052 0.99747479 0.99758793 0.99769929 0.99780893 0.99791507\n",
      " 0.99801775 0.99811779 0.99821359 0.99830727 0.99839728 0.99848582\n",
      " 0.99857109 0.99865309 0.99873421 0.99881191 0.99888596 0.99895654\n",
      " 0.99902461 0.99909229 0.9991563  0.99921834 0.99927625 0.99933194\n",
      " 0.99938489 0.99943618 0.99948564 0.99953144 0.99957637 0.99961924\n",
      " 0.99966077 0.99969846 0.9997348  0.99977053 0.99980478 0.99983635\n",
      " 0.99986643 0.99988994 0.99991288 0.99993156 0.99994914 0.99996408\n",
      " 0.99997659 0.99998812 0.99999495 1.        ]\n"
     ]
    }
   ],
   "source": [
    "# Aplicando PCA na matriz centrada\n",
    "\n",
    "pca = PCA()\n",
    "\n",
    "dados_transformados = pca.fit_transform(np.transpose(mat_centrada))\n",
    "componentes_principais = pca.components_\n",
    "variancia_explicada = pca.explained_variance_ratio_\n",
    "variancia_acumulada = np.cumsum(variancia_explicada)\n",
    "\n",
    "print(\"Dados transformados:\\n\", dados_transformados)\n",
    "print(\"\\nComponentes principais:\\n\", componentes_principais)\n",
    "print(\"\\nVariância acumulada:\\n\", variancia_acumulada)"
   ]
  },
  {
   "cell_type": "markdown",
   "id": "a6312229",
   "metadata": {},
   "source": [
    "**Observando os 20 primeiros autovalores**"
   ]
  },
  {
   "cell_type": "code",
   "execution_count": 11,
   "id": "f8edcc30",
   "metadata": {},
   "outputs": [
    {
     "data": {
      "text/plain": [
       "<BarContainer object of 20 artists>"
      ]
     },
     "execution_count": 11,
     "metadata": {},
     "output_type": "execute_result"
    },
    {
     "data": {
      "image/png": "[encoded data removed]",
      "text/plain": [
       "<Figure size 432x288 with 1 Axes>"
      ]
     },
     "metadata": {
      "needs_background": "light"
     },
     "output_type": "display_data"
    }
   ],
   "source": [
    "autovalores = pca.explained_variance_\n",
    "\n",
    "plt.bar(range(1, 21), autovalores[:20])"
   ]
  },
  {
   "cell_type": "markdown",
   "id": "fa0ef19d",
   "metadata": {},
   "source": [
    "**Autovalores acumulados**"
   ]
  },
  {
   "cell_type": "code",
   "execution_count": 13,
   "id": "7cb54641",
   "metadata": {},
   "outputs": [
    {
     "data": {
      "text/plain": [
       "[<matplotlib.lines.Line2D at 0x1a670310f40>]"
      ]
     },
     "execution_count": 13,
     "metadata": {},
     "output_type": "execute_result"
    },
    {
     "data": {
      "image/png": "[encoded data removed]",
      "text/plain": [
       "<Figure size 432x288 with 1 Axes>"
      ]
     },
     "metadata": {
      "needs_background": "light"
     },
     "output_type": "display_data"
    }
   ],
   "source": [
    "plt.plot(range(len(autovalores)), np.cumsum(autovalores))"
   ]
  },
  {
   "cell_type": "markdown",
   "id": "af620d71",
   "metadata": {},
   "source": [
    "## Utilizando os primeiros k autovetores para aproximação"
   ]
  },
  {
   "cell_type": "code",
   "execution_count": 23,
   "id": "883ed18b",
   "metadata": {},
   "outputs": [],
   "source": [
    "# Função para obter coeficiente usando k autovetores\n",
    "# Utilizando primeira foto do conjunto de teste\n",
    "\n",
    "def get_coef(k):\n",
    "    autovetores_ = componentes_principais[:k]\n",
    "    auto_faces = np.reshape(autovetores_, (k, 16, 16))\n",
    "    coef = autovetores_.dot(np.reshape(mat_teste[:, 0], (-1,1)) - mat_media)\n",
    "    return coef"
   ]
  },
  {
   "cell_type": "code",
   "execution_count": 24,
   "id": "73ee3891",
   "metadata": {},
   "outputs": [
    {
     "data": {
      "text/plain": [
       "array([[ 9.22744354],\n",
       "       [-2.36375671],\n",
       "       [ 3.26961467],\n",
       "       [-0.30616418],\n",
       "       [-1.66447244]])"
      ]
     },
     "execution_count": 24,
     "metadata": {},
     "output_type": "execute_result"
    }
   ],
   "source": [
    "# Exemplo: obtendos os coeficientes para 5 autovetores \n",
    "\n",
    "coef = get_coef(5)\n",
    "coef"
   ]
  },
  {
   "cell_type": "code",
   "execution_count": 25,
   "id": "66d3df45",
   "metadata": {},
   "outputs": [],
   "source": [
    "foto_teste = mat_teste[:, 0].reshape((16, 16))\n",
    "aproximacoes = [foto_teste]\n",
    "\n",
    "for i in range(2, 21):\n",
    "    coef = get_coef(i)\n",
    "    aprox_vetor = mat_media + np.transpose(componentes_principais[:i]).dot(coef)\n",
    "    aprox_vetor = aprox_vetor.reshape((16,16))\n",
    "    aproximacoes.append(aprox_vetor)"
   ]
  },
  {
   "cell_type": "markdown",
   "id": "63770f91",
   "metadata": {},
   "source": [
    "**Um dígito e sucessivas aproximações usando 2, 3, até 20 autovetores**"
   ]
  },
  {
   "cell_type": "code",
   "execution_count": 26,
   "id": "42f7ce7a",
   "metadata": {},
   "outputs": [
    {
     "data": {
      "image/png": "[encoded data removed]",
      "text/plain": [
       "<Figure size 720x720 with 20 Axes>"
      ]
     },
     "metadata": {
      "needs_background": "light"
     },
     "output_type": "display_data"
    }
   ],
   "source": [
    "num_linhas = 4\n",
    "num_colunas = 5\n",
    "\n",
    "# Crie a figura e os subplots\n",
    "fig, axs = plt.subplots(num_linhas, num_colunas, figsize=(10, 10))\n",
    "\n",
    "# Itere sobre as imagens e plote-as nos subplots\n",
    "for i in range(len(aproximacoes)):\n",
    "    linha = i // 5  # Índice da linha atual\n",
    "    coluna = i % 5  # Índice da coluna atual\n",
    "    \n",
    "    # Use o subplot correspondente para plotar a imagem\n",
    "    axs[linha, coluna].imshow(aproximacoes[i], cmap='gray', vmin=-1, vmax=1)\n",
    "    axs[linha, coluna].axis('off')  # Desative os eixos\n",
    "    \n",
    "# Ajuste os espaçamentos entre os subplots\n",
    "plt.tight_layout()\n",
    "\n",
    "# Exiba o gráfico resultante\n",
    "plt.show()"
   ]
  },
  {
   "cell_type": "markdown",
   "id": "e029169a",
   "metadata": {},
   "source": [
    "# Classificação de dígitos usando k Componentes"
   ]
  },
  {
   "cell_type": "code",
   "execution_count": 27,
   "id": "434f2e22",
   "metadata": {},
   "outputs": [],
   "source": [
    "k=20\n",
    "coef_treino = componentes_principais[:k].dot(mat_pixels - mat_media)"
   ]
  },
  {
   "cell_type": "code",
   "execution_count": 28,
   "id": "8b72e186",
   "metadata": {},
   "outputs": [
    {
     "data": {
      "text/plain": [
       "(20, 7291)"
      ]
     },
     "execution_count": 28,
     "metadata": {},
     "output_type": "execute_result"
    }
   ],
   "source": [
    "coef_treino.shape"
   ]
  },
  {
   "cell_type": "code",
   "execution_count": 45,
   "id": "50b1c5ba",
   "metadata": {},
   "outputs": [],
   "source": [
    "idx = 0\n",
    "coefmedio = np.zeros((k, len(digits)))\n",
    "i = 0\n",
    "idx_anterior = 0\n",
    "for digit in digits:\n",
    "    idx += len(digit)\n",
    "    coefmedio[:, i] = np.mean(coef_treino[:, idx_anterior:idx], axis=1)\n",
    "    idx_anterior = idx\n",
    "    i += 1"
   ]
  },
  {
   "cell_type": "code",
   "execution_count": 46,
   "id": "73740de5",
   "metadata": {},
   "outputs": [
    {
     "data": {
      "text/plain": [
       "(20, 10)"
      ]
     },
     "execution_count": 46,
     "metadata": {},
     "output_type": "execute_result"
    }
   ],
   "source": [
    "coefmedio.shape"
   ]
  },
  {
   "cell_type": "markdown",
   "id": "ec12a723",
   "metadata": {},
   "source": [
    "## Aplicando Classificador em um exemplo da Matriz de teste"
   ]
  },
  {
   "cell_type": "code",
   "execution_count": 48,
   "id": "430268e8",
   "metadata": {},
   "outputs": [
    {
     "data": {
      "text/plain": [
       "(256, 2007)"
      ]
     },
     "execution_count": 48,
     "metadata": {},
     "output_type": "execute_result"
    }
   ],
   "source": [
    "mat_teste.shape"
   ]
  },
  {
   "cell_type": "code",
   "execution_count": 52,
   "id": "317816a3",
   "metadata": {},
   "outputs": [],
   "source": [
    "coef = componentes_principais[:k].dot(mat_teste - mat_media)"
   ]
  },
  {
   "cell_type": "code",
   "execution_count": 53,
   "id": "ce13e311",
   "metadata": {},
   "outputs": [
    {
     "data": {
      "text/plain": [
       "(20, 2007)"
      ]
     },
     "execution_count": 53,
     "metadata": {},
     "output_type": "execute_result"
    }
   ],
   "source": [
    "coef.shape"
   ]
  },
  {
   "cell_type": "code",
   "execution_count": 58,
   "id": "b75ddae3",
   "metadata": {},
   "outputs": [
    {
     "data": {
      "text/plain": [
       "0"
      ]
     },
     "execution_count": 58,
     "metadata": {},
     "output_type": "execute_result"
    }
   ],
   "source": [
    "# Obtendo Classificação da primeira imagem de um dígito 0\n",
    "# da matriz de Teste. O resultado obtido é correto (0)\n",
    "\n",
    "classification = np.argmin(np.mean((coefmedio - coef[:, 0:1])**2, axis = 0))\n",
    "classification"
   ]
  },
  {
   "cell_type": "markdown",
   "id": "41f919f0",
   "metadata": {},
   "source": [
    "## Coletando métricas para diferentes valores de k"
   ]
  },
  {
   "cell_type": "code",
   "execution_count": 78,
   "id": "13b3ed1f",
   "metadata": {},
   "outputs": [],
   "source": [
    "def matriz_contingencia(k):\n",
    "    C = np.zeros((10, 10))\n",
    "    test_coef = coef[:k]\n",
    "    mean_coef = coefmedio[:k]\n",
    "    num_test = 2007\n",
    "    idx = 0\n",
    "    for i in range(10):\n",
    "        for j in range(len(test_digits[i])):\n",
    "            digit_class = np.argmin(np.mean((mean_coef - test_coef[:, idx:idx+1])**2, axis = 0))\n",
    "            C[i][digit_class] += 1\n",
    "            idx += 1\n",
    "    return C"
   ]
  },
  {
   "cell_type": "markdown",
   "id": "fc3abbcd",
   "metadata": {},
   "source": [
    "**Matrizes de Contingência e proporção dos dados na diagonal para k=5, 10, 15 e 20**\n",
    "\n",
    "A maior proporção de imagens classificadas corretamente foi para k=20, sendo 80%"
   ]
  },
  {
   "cell_type": "markdown",
   "id": "67ceaf69",
   "metadata": {},
   "source": [
    "**k = 5**"
   ]
  },
  {
   "cell_type": "code",
   "execution_count": 79,
   "id": "e7fe5519",
   "metadata": {},
   "outputs": [
    {
     "data": {
      "text/plain": [
       "array([[271.,   0.,   8.,   2.,   5.,   8.,  55.,   0.,  10.,   0.],\n",
       "       [  0., 259.,   0.,   0.,   1.,   1.,   1.,   0.,   2.,   0.],\n",
       "       [ 12.,   6., 106.,  13.,  18.,   9.,  10.,   0.,  21.,   3.],\n",
       "       [  7.,   0.,   6., 104.,   1.,  19.,   1.,   0.,  27.,   1.],\n",
       "       [  2.,  10.,  14.,   0., 118.,   1.,   7.,  19.,   3.,  26.],\n",
       "       [ 24.,   1.,  11.,  21.,   8.,  76.,   4.,   0.,  12.,   3.],\n",
       "       [ 23.,   2.,   3.,   0.,   4.,   1., 136.,   0.,   1.,   0.],\n",
       "       [  0.,   2.,   2.,   0.,  10.,   1.,   1., 107.,   3.,  21.],\n",
       "       [  5.,   4.,  17.,   9.,   4.,  10.,   2.,   1., 100.,  14.],\n",
       "       [  0.,  13.,   2.,   0.,  20.,   0.,   0.,  34.,  14.,  94.]])"
      ]
     },
     "execution_count": 79,
     "metadata": {},
     "output_type": "execute_result"
    }
   ],
   "source": [
    "C5 = matriz_contingencia(5)\n",
    "C5"
   ]
  },
  {
   "cell_type": "code",
   "execution_count": 83,
   "id": "91aa3215",
   "metadata": {},
   "outputs": [
    {
     "data": {
      "text/plain": [
       "0.6831091180866966"
      ]
     },
     "execution_count": 83,
     "metadata": {},
     "output_type": "execute_result"
    }
   ],
   "source": [
    "prop = np.trace(C5) / 2007\n",
    "prop"
   ]
  },
  {
   "cell_type": "markdown",
   "id": "53c4f511",
   "metadata": {},
   "source": [
    "**k = 10**"
   ]
  },
  {
   "cell_type": "code",
   "execution_count": 81,
   "id": "e64d785f",
   "metadata": {},
   "outputs": [
    {
     "data": {
      "text/plain": [
       "array([[283.,   0.,   3.,   2.,   4.,   7.,  53.,   1.,   5.,   1.],\n",
       "       [  0., 258.,   0.,   0.,   3.,   0.,   3.,   0.,   0.,   0.],\n",
       "       [  7.,   2., 135.,  12.,  19.,   2.,   3.,   3.,  15.,   0.],\n",
       "       [  4.,   0.,   3., 117.,   1.,  17.,   2.,   0.,  19.,   3.],\n",
       "       [  1.,   7.,   7.,   0., 141.,   1.,   4.,   2.,   3.,  34.],\n",
       "       [ 10.,   1.,   0.,  16.,   5., 110.,   3.,   0.,   9.,   6.],\n",
       "       [ 20.,   0.,   5.,   0.,   4.,   4., 136.,   0.,   1.,   0.],\n",
       "       [  0.,   2.,   3.,   0.,   7.,   0.,   0., 110.,   2.,  23.],\n",
       "       [  3.,   2.,   7.,   9.,   5.,   7.,   3.,   1., 118.,  11.],\n",
       "       [  0.,   9.,   1.,   0.,  19.,   1.,   0.,  10.,   3., 134.]])"
      ]
     },
     "execution_count": 81,
     "metadata": {},
     "output_type": "execute_result"
    }
   ],
   "source": [
    "C10 = matriz_contingencia(10)\n",
    "C10"
   ]
  },
  {
   "cell_type": "code",
   "execution_count": 84,
   "id": "117b7760",
   "metadata": {},
   "outputs": [
    {
     "data": {
      "text/plain": [
       "0.7683109118086696"
      ]
     },
     "execution_count": 84,
     "metadata": {},
     "output_type": "execute_result"
    }
   ],
   "source": [
    "prop = np.trace(C10) / 2007\n",
    "prop"
   ]
  },
  {
   "cell_type": "markdown",
   "id": "db1b7ad0",
   "metadata": {},
   "source": [
    "**k = 15**"
   ]
  },
  {
   "cell_type": "code",
   "execution_count": 82,
   "id": "d6536f7c",
   "metadata": {},
   "outputs": [
    {
     "data": {
      "text/plain": [
       "array([[295.,   0.,   2.,   2.,   4.,   3.,  40.,   1.,  11.,   1.],\n",
       "       [  0., 259.,   0.,   0.,   3.,   0.,   2.,   0.,   0.,   0.],\n",
       "       [  7.,   0., 138.,  10.,  19.,   2.,   3.,   3.,  16.,   0.],\n",
       "       [  6.,   0.,   5., 125.,   0.,  18.,   1.,   0.,   9.,   2.],\n",
       "       [  1.,   7.,   5.,   0., 142.,   1.,   5.,   2.,   3.,  34.],\n",
       "       [ 10.,   1.,   0.,  11.,   6., 116.,   2.,   0.,   7.,   7.],\n",
       "       [ 15.,   0.,   4.,   0.,   4.,   4., 142.,   0.,   1.,   0.],\n",
       "       [  0.,   2.,   4.,   0.,   7.,   0.,   0., 114.,   1.,  19.],\n",
       "       [  4.,   2.,   5.,  10.,   5.,   6.,   0.,   1., 123.,  10.],\n",
       "       [  0.,   7.,   0.,   0.,  18.,   1.,   0.,  11.,   4., 136.]])"
      ]
     },
     "execution_count": 82,
     "metadata": {},
     "output_type": "execute_result"
    }
   ],
   "source": [
    "C15 = matriz_contingencia(15)\n",
    "C15"
   ]
  },
  {
   "cell_type": "code",
   "execution_count": 85,
   "id": "efbecc40",
   "metadata": {},
   "outputs": [
    {
     "data": {
      "text/plain": [
       "0.7922272047832586"
      ]
     },
     "execution_count": 85,
     "metadata": {},
     "output_type": "execute_result"
    }
   ],
   "source": [
    "prop = np.trace(C15) / 2007\n",
    "prop"
   ]
  },
  {
   "cell_type": "markdown",
   "id": "95fd8285",
   "metadata": {},
   "source": [
    "**k = 20**"
   ]
  },
  {
   "cell_type": "code",
   "execution_count": 80,
   "id": "3d5c0c1a",
   "metadata": {},
   "outputs": [
    {
     "data": {
      "text/plain": [
       "array([[296.,   0.,   2.,   2.,   4.,   4.,  38.,   1.,  11.,   1.],\n",
       "       [  0., 259.,   0.,   1.,   2.,   0.,   2.,   0.,   0.,   0.],\n",
       "       [  6.,   0., 142.,   8.,  18.,   3.,   2.,   3.,  16.,   0.],\n",
       "       [  6.,   0.,   4., 130.,   1.,  14.,   1.,   0.,   8.,   2.],\n",
       "       [  1.,   6.,   5.,   0., 141.,   1.,   5.,   2.,   3.,  36.],\n",
       "       [ 10.,   1.,   0.,  10.,   6., 119.,   0.,   0.,   7.,   7.],\n",
       "       [ 14.,   0.,   4.,   0.,   4.,   4., 143.,   0.,   1.,   0.],\n",
       "       [  0.,   2.,   2.,   0.,   7.,   0.,   0., 114.,   2.,  20.],\n",
       "       [  4.,   2.,   5.,  10.,   6.,   6.,   0.,   1., 124.,   8.],\n",
       "       [  0.,   5.,   0.,   0.,  16.,   1.,   0.,  12.,   4., 139.]])"
      ]
     },
     "execution_count": 80,
     "metadata": {},
     "output_type": "execute_result"
    }
   ],
   "source": [
    "C20 = matriz_contingencia(20)\n",
    "C20"
   ]
  },
  {
   "cell_type": "code",
   "execution_count": 86,
   "id": "bfd31b13",
   "metadata": {},
   "outputs": [
    {
     "data": {
      "text/plain": [
       "0.8006975585450922"
      ]
     },
     "execution_count": 86,
     "metadata": {},
     "output_type": "execute_result"
    }
   ],
   "source": [
    "prop = np.trace(C20) / 2007\n",
    "prop"
   ]
  },
  {
   "cell_type": "markdown",
   "id": "8ff81f6b",
   "metadata": {},
   "source": [
    "## Calculando precisão e revocação para diferentes valores de k"
   ]
  },
  {
   "cell_type": "code",
   "execution_count": 88,
   "id": "7a860cec",
   "metadata": {},
   "outputs": [
    {
     "name": "stdout",
     "output_type": "stream",
     "text": [
      "Para k = 2, Precisão = 0.4686365174985724, Revocação = 0.44853786356194203\n",
      "Para k = 3, Precisão = 0.5248980717388914, Revocação = 0.5056647482499411\n",
      "Para k = 4, Precisão = 0.649877920555018, Revocação = 0.6429857651446735\n",
      "Para k = 5, Precisão = 0.6624169058665598, Revocação = 0.6602269321831126\n",
      "Para k = 6, Precisão = 0.6953164864565248, Revocação = 0.6980385707027381\n",
      "Para k = 7, Precisão = 0.7208520826115857, Revocação = 0.7235209649103054\n",
      "Para k = 8, Precisão = 0.7330895334914668, Revocação = 0.7369293822341088\n",
      "Para k = 9, Precisão = 0.748279756114935, Revocação = 0.7520998436505819\n",
      "Para k = 10, Precisão = 0.7560915861968461, Revocação = 0.7599772474075097\n",
      "Para k = 11, Precisão = 0.7640672707669066, Revocação = 0.7676512435058886\n",
      "Para k = 12, Precisão = 0.7695541838479559, Revocação = 0.772367280335436\n",
      "Para k = 13, Precisão = 0.7754388543026154, Revocação = 0.7782818234357115\n",
      "Para k = 14, Precisão = 0.7801580411431714, Revocação = 0.7828976587239108\n",
      "Para k = 15, Precisão = 0.7807899129792963, Revocação = 0.783852131499527\n",
      "Para k = 16, Precisão = 0.786283950977573, Revocação = 0.7887628901030693\n",
      "Para k = 17, Precisão = 0.7921764510429267, Revocação = 0.7950402838053924\n",
      "Para k = 18, Precisão = 0.7881248395257386, Revocação = 0.7907036410594177\n",
      "Para k = 19, Precisão = 0.7922149471760289, Revocação = 0.7948141565492377\n",
      "Para k = 20, Precisão = 0.7903612749112121, Revocação = 0.7927124721115637\n"
     ]
    }
   ],
   "source": [
    "for k in range(2, 21):\n",
    "    C = matriz_contingencia(k)\n",
    "    pm = 0\n",
    "    rm = 0\n",
    "    for i in range(10):\n",
    "        pm += C[i][i] / np.sum(C[i, :])\n",
    "        rm += C[i][i] / np.sum(C[:, i])\n",
    "    pm /= 10\n",
    "    rm /= 10\n",
    "    print(f'Para k = {k}, Precisão = {pm}, Revocação = {rm}')"
   ]
  },
  {
   "cell_type": "code",
   "execution_count": null,
   "id": "593c27e1",
   "metadata": {},
   "outputs": [],
   "source": []
  }
 ],
 "metadata": {
  "kernelspec": {
   "display_name": "Python 3 (ipykernel)",
   "language": "python",
   "name": "python3"
  },
  "language_info": {
   "codemirror_mode": {
    "name": "ipython",
    "version": 3
   },
   "file_extension": ".py",
   "mimetype": "text/x-python",
   "name": "python",
   "nbconvert_exporter": "python",
   "pygments_lexer": "ipython3",
   "version": "3.10.4"
  }
 },
 "nbformat": 4,
 "nbformat_minor": 5
}
