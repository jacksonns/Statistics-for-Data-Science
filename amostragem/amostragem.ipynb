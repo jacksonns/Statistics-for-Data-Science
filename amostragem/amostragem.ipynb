{
 "cells": [
  {
   "cell_type": "markdown",
   "id": "f70f1816",
   "metadata": {},
   "source": [
    "# Amostragem de VA's\n",
    "\n",
    "* Box Mueller\n",
    "* Transformada Inversa \n",
    "* Aceitação-Rejeição\n",
    "* Importance Sampling"
   ]
  },
  {
   "cell_type": "code",
   "execution_count": 1,
   "id": "6396e7e3",
   "metadata": {},
   "outputs": [],
   "source": [
    "from scipy import stats\n",
    "from math import sqrt, pi, cos, log, exp\n",
    "import matplotlib.pyplot as plt\n",
    "import numpy as np"
   ]
  },
  {
   "cell_type": "markdown",
   "id": "09a80b2a",
   "metadata": {},
   "source": [
    "## Exercício 1.\n",
    "\n",
    "Gerando distribuição Normal com método de Box Mueller, gerando inicialmente uma V.A. $X_{1}$ através de uma Uniforme U(0,1) e calculando:\n",
    "\n",
    "$cos(2\\pi X_{1}) * \\sqrt{-2 \\ln X_{1}}$\n",
    "\n",
    "É possível perceber que a distribuição gerada (visualizada no histograma) se ajusta bem à função de densidade de uma Gaussiana N(0,1)."
   ]
  },
  {
   "cell_type": "code",
   "execution_count": 2,
   "id": "5c80b5de",
   "metadata": {},
   "outputs": [],
   "source": [
    "def mynorm(N):\n",
    "    values = []\n",
    "    for _ in range(N):\n",
    "        X1 = stats.uniform.rvs()\n",
    "        rexp = stats.expon.rvs(scale=2) # EXP(1/2)\n",
    "        values.append(sqrt(rexp) * cos(2 * pi * X1))\n",
    "    return values"
   ]
  },
  {
   "cell_type": "code",
   "execution_count": 3,
   "id": "bc1b28ab",
   "metadata": {},
   "outputs": [],
   "source": [
    "n = 10000\n",
    "simulated_norm = mynorm(n)\n",
    "x = np.linspace(-4, 4, n)\n",
    "real_norm = stats.norm.pdf(x)"
   ]
  },
  {
   "cell_type": "code",
   "execution_count": 4,
   "id": "15a62062",
   "metadata": {},
   "outputs": [
    {
     "data": {
      "image/png": "[encoded data removed]",
      "text/plain": [
       "<Figure size 432x288 with 1 Axes>"
      ]
     },
     "metadata": {
      "needs_background": "light"
     },
     "output_type": "display_data"
    }
   ],
   "source": [
    "plt.hist(simulated_norm, density=True)\n",
    "plt.plot(x, real_norm)\n",
    "plt.show()"
   ]
  },
  {
   "cell_type": "markdown",
   "id": "aa7a3254",
   "metadata": {},
   "source": [
    "## Exercício 2\n",
    "\n",
    "Gerando variáveis aleatórias para a densidade de probabilidade $f(x)$ utilizando 2 métodos: a) Transformada Inversa e b) aceitação-rejeição\n",
    "\n",
    "$f(x) = \\frac{2}{3} \\sqrt{x}$\n",
    "\n"
   ]
  },
  {
   "cell_type": "markdown",
   "id": "64039fd2",
   "metadata": {},
   "source": [
    "A) Transformada Inversa\n",
    "\n",
    "$F(x) = x^{\\frac{3}{2}}$\n",
    "\n",
    "$F^{-1}(x) = x^{\\frac{2}{3}}$"
   ]
  },
  {
   "cell_type": "code",
   "execution_count": 5,
   "id": "c7e58401",
   "metadata": {},
   "outputs": [],
   "source": [
    "def transformada_inversa(N):\n",
    "    values = []\n",
    "    for _ in range(N):\n",
    "        x = stats.uniform.rvs()\n",
    "        values.append(x**(2/3))\n",
    "    return values"
   ]
  },
  {
   "cell_type": "code",
   "execution_count": 6,
   "id": "b05e8e9a",
   "metadata": {},
   "outputs": [
    {
     "data": {
      "image/png": "[encoded data removed]",
      "text/plain": [
       "<Figure size 432x288 with 1 Axes>"
      ]
     },
     "metadata": {
      "needs_background": "light"
     },
     "output_type": "display_data"
    }
   ],
   "source": [
    "n = 10000\n",
    "transformada = transformada_inversa(n)\n",
    "\n",
    "plt.hist(transformada, density=True)\n",
    "plt.show()"
   ]
  },
  {
   "cell_type": "markdown",
   "id": "363c25b5",
   "metadata": {},
   "source": [
    "B) Aceitação-Rejeição\n",
    "\n",
    "Utilizando a Uniforme(0,1) como densidade de comparação. É possível perceber o resultado similar ao obtido anteriormente. Para gerar 10000 v.a's da densidade de $f(x)$ com esse método foi necessário gerar 22502 valores da distribuição uniforme."
   ]
  },
  {
   "cell_type": "code",
   "execution_count": 7,
   "id": "bbc65ac7",
   "metadata": {},
   "outputs": [],
   "source": [
    "def f(x):\n",
    "    return (np.sqrt(x) * 2/3)"
   ]
  },
  {
   "cell_type": "code",
   "execution_count": 8,
   "id": "4ff9a556",
   "metadata": {},
   "outputs": [
    {
     "data": {
      "image/png": "[encoded data removed]",
      "text/plain": [
       "<Figure size 432x288 with 1 Axes>"
      ]
     },
     "metadata": {
      "needs_background": "light"
     },
     "output_type": "display_data"
    }
   ],
   "source": [
    "x = np.linspace(0, 1, n)\n",
    "fx = f(x)\n",
    "plt.plot(x, fx, label='Distribuição fx')\n",
    "\n",
    "uniform = [stats.uniform.pdf(i) for i in x]\n",
    "plt.plot(x, uniform, label='Distribuição uniforme')\n",
    "\n",
    "plt.legend()\n",
    "plt.show()"
   ]
  },
  {
   "cell_type": "code",
   "execution_count": 9,
   "id": "82bf3afe",
   "metadata": {},
   "outputs": [],
   "source": [
    "# Usando distribuição uniforme para aceitação/rejeição\n",
    "def ac_rej(N):\n",
    "    values = []\n",
    "    uniform_generated = 0\n",
    "    for _ in range(N):\n",
    "        flag = True\n",
    "        while flag:\n",
    "            Y = stats.uniform.rvs()\n",
    "            U = stats.uniform.rvs()\n",
    "            uniform_generated += 1\n",
    "            ry = f(Y) / 1\n",
    "            if U <= ry:\n",
    "                values.append(Y)\n",
    "                flag = False\n",
    "    return values, uniform_generated"
   ]
  },
  {
   "cell_type": "code",
   "execution_count": 10,
   "id": "608f325f",
   "metadata": {},
   "outputs": [],
   "source": [
    "values, uniform_generated = ac_rej(n)"
   ]
  },
  {
   "cell_type": "code",
   "execution_count": 11,
   "id": "ae9c060c",
   "metadata": {},
   "outputs": [
    {
     "data": {
      "image/png": "[encoded data removed]",
      "text/plain": [
       "<Figure size 432x288 with 1 Axes>"
      ]
     },
     "metadata": {
      "needs_background": "light"
     },
     "output_type": "display_data"
    }
   ],
   "source": [
    "plt.hist(values, density=True)\n",
    "plt.show()"
   ]
  },
  {
   "cell_type": "code",
   "execution_count": 12,
   "id": "77e2e295",
   "metadata": {},
   "outputs": [
    {
     "data": {
      "text/plain": [
       "22282"
      ]
     },
     "execution_count": 12,
     "metadata": {},
     "output_type": "execute_result"
    }
   ],
   "source": [
    "uniform_generated"
   ]
  },
  {
   "cell_type": "markdown",
   "id": "a9f19dd7",
   "metadata": {},
   "source": [
    "## Exercício 3\n",
    "\n",
    "Numa companhia de seguros, a tarefa é simular a perda financeira agregada L que a companhia\n",
    "pode experimentar no próximo ano em um tipo de apólice. A perda é dada por L = X1 + . . . + XN\n",
    "onde N é o número aleatório de sinistros que irão ocorrer com os muitos segurados e Xi é a perda\n",
    "monetária associada com o i-ésimo sinistro.\n",
    "\n",
    "Supondo que N ∼ Poisson(1.7) e que os Xi são i.i.d. com distribuição exp(1/10), obtenha um valor\n",
    "simulado de L usando os seguintes valores i.i.d. U(0, 1): 0.672 para obter o valor simulado N; e\n",
    "o que for necessário da sequência 0.936, 0.984, 0.198, 0.659, 0.379 para obter os Xi e assim obter\n",
    "um valor para L. Repita o exercício obtendo um segundo valor simulado para L com a seguinte\n",
    "sequência de valores i.i.d. U(0, 1): 0.013, 0.834, 0.926, 0.648, 0.717, 0.169"
   ]
  },
  {
   "cell_type": "markdown",
   "id": "39c3d335",
   "metadata": {},
   "source": [
    "1. Simulando uma Poisson\n",
    "Obtem-se os valores acumulados da Poisson(1.7) para k = 0,1,2,3,4 e considerando o valor Uniforme 0.672, o k escolhido é igual a 2, pois $0.4932 \\leq 0.672 \\leq 0.7572$. Logo, N = 2"
   ]
  },
  {
   "cell_type": "code",
   "execution_count": 13,
   "id": "628b19e8",
   "metadata": {},
   "outputs": [
    {
     "data": {
      "text/plain": [
       "[0.1826835240527347,\n",
       " 0.49324551494238356,\n",
       " 0.7572232071985852,\n",
       " 0.906810566143766,\n",
       " 0.9703851936954679]"
      ]
     },
     "execution_count": 13,
     "metadata": {},
     "output_type": "execute_result"
    }
   ],
   "source": [
    "k = [0, 1, 2, 3, 4]\n",
    "cumulative = [stats.poisson.cdf(i, 1.7) for i in k]\n",
    "cumulative"
   ]
  },
  {
   "cell_type": "markdown",
   "id": "6a7f0a8f",
   "metadata": {},
   "source": [
    "2. Obtendo valor de L = X1 + X2. Simulando uma exponencial exp(0.1) a partir dos valores 0.936 e 0.984."
   ]
  },
  {
   "cell_type": "code",
   "execution_count": 14,
   "id": "b97403e0",
   "metadata": {},
   "outputs": [
    {
     "data": {
      "text/plain": [
       "0.6613980250454494"
      ]
     },
     "execution_count": 14,
     "metadata": {},
     "output_type": "execute_result"
    }
   ],
   "source": [
    "exp1 = -10 * (log(0.936))\n",
    "exp1"
   ]
  },
  {
   "cell_type": "code",
   "execution_count": 15,
   "id": "db4b7404",
   "metadata": {},
   "outputs": [
    {
     "data": {
      "text/plain": [
       "0.16129381929883643"
      ]
     },
     "execution_count": 15,
     "metadata": {},
     "output_type": "execute_result"
    }
   ],
   "source": [
    "exp2 = -10 * (log(0.984))\n",
    "exp2"
   ]
  },
  {
   "cell_type": "code",
   "execution_count": 16,
   "id": "11238466",
   "metadata": {},
   "outputs": [
    {
     "data": {
      "text/plain": [
       "0.8226918443442859"
      ]
     },
     "execution_count": 16,
     "metadata": {},
     "output_type": "execute_result"
    }
   ],
   "source": [
    "L = exp1 + exp2\n",
    "L"
   ]
  },
  {
   "cell_type": "markdown",
   "id": "8d4f1f97",
   "metadata": {},
   "source": [
    "3. Para a última sequência, como 0.013 < 0.1826 (acumulado da Poisson(1.7) para k=0), então N=0 e L=0"
   ]
  },
  {
   "cell_type": "markdown",
   "id": "8354d6be",
   "metadata": {},
   "source": [
    "## Exercício 4\n",
    "\n",
    "X e Y são duas variáveis aleatórias contínuas com funções distribuições acumuladas distintas e iguais a $F_{1}(x)$ e $F_{2}(y)$, respectivamente, com inversas $F^{−1}_{1}(u)$ e $F^{−1}_{2}(u)$. Verifique se as afirmações abaixo são verdadeiras para duas distribuições genéricas $F_{1}$ e $F_{2}$ distintas:\n",
    "\n",
    "#### F1(X) ∼ U(0, 1)\n",
    "Verdadeiro. Sendo $Z=F_{X}(X)$., então $F_{Z}(x) = P(F_{X}(X) \\leq x) = P(X \\leq F^{−1}_{X}(x)) = F_{X}(F^{−1}_{X}(x))=x$. Como é constante, está uniformemente distribuído.\n",
    "\n",
    "#### Se um valor X maior que a mediana de sua distribuição for observado, então o valor F1(X) será maior que 1/2.\n",
    "Verdadeiro. A mediana é 0.5 aplicado na função inversa de F. Logo, $F_{1}(x) > F_{1}(F^{-1}_{1}(0.5)) = 0.5$ \n",
    "\n",
    "#### Se U > 0.5 então $F^{−1}_{1}(U)$  > $F^{−1}_{1}(0.5)$ \n",
    "Verdadeiro. Idem ao item anterior.\n",
    "\n",
    "#### $F^{−1}_{2}(F_{1}(X))$ tem a mesma distribuição que Y .\n",
    "Verdadeiro. Como $F_{1}(X)$ ~ $U(0,1)$ é possível concluir que $F^{−1}_{2}(U)$ ~ $Y$\n",
    "\n",
    "#### $F_{2}(Y)$ e $F_{1}(X)$ possuem a mesma distribuição.\n",
    "Verdadeiro. Ambas são equivalentes à uniforme U(0,1)\n",
    "\n",
    "#### $F_{2}(X)$ e $F_{1}(X)$ possuem a mesma distribuição (atenção: este item é diferente do anterior).\n",
    "Falso. $F_{2}(X)$ não precisa ter distribuição Uniforme necessariamente.\n",
    "\n",
    "#### $F^{−1}_{2}(U)$ e $F^{−1}_{1}(U)$ são i.i.d.\n",
    "Falso. As inversas das funções acumuladas em U são equivalentes à Y e X, respectivamente, que são variáveis aleatórias distintas.\n",
    "\n",
    "#### $F_{2}(Y)$ e $F_{1}(X)$ são i.i.d.\n",
    "Falso. Não necessariamente. Caso X e Y tenham correlação, então elas não são independentes."
   ]
  },
  {
   "cell_type": "markdown",
   "id": "e953342c",
   "metadata": {},
   "source": [
    "## Exercício 5"
   ]
  },
  {
   "cell_type": "markdown",
   "id": "471c3a58",
   "metadata": {},
   "source": [
    "Use simulação Monte Carlo para estimar o volume do elipsóide\n",
    "$x^2 + \\frac{y^2}{4} + \\frac{z^2}{16} \\leq 1$\n",
    "Você pode assumir que o elipsóide está contido no paralelepípedo [−1, 1]×[−2, 2]×[−4, 4]. O valor\n",
    "exato do volume é conhecido e é igual a 32/3 $\\pi$ = 33.51\n",
    "\n",
    "Valor obtido: 33.5488"
   ]
  },
  {
   "cell_type": "code",
   "execution_count": 19,
   "id": "1a761376",
   "metadata": {},
   "outputs": [
    {
     "data": {
      "text/plain": [
       "33.5488"
      ]
     },
     "execution_count": 19,
     "metadata": {},
     "output_type": "execute_result"
    }
   ],
   "source": [
    "volD = 2 * 4 * 8\n",
    "x = np.array(stats.uniform.rvs(-1, 1, size=10000))\n",
    "y = np.array(stats.uniform.rvs(-2, 2, size=10000))\n",
    "z = np.array(stats.uniform.rvs(-4, 4, size=10000))\n",
    "volume = np.mean(x**2 + (y**2 / 4) + (z**2/16) <= 1) * volD\n",
    "volume"
   ]
  },
  {
   "cell_type": "markdown",
   "id": "2f6d9dc1",
   "metadata": {},
   "source": [
    "## Exercício 6\n",
    "\n",
    "Distribuição de Gompertz.\n",
    "\n",
    "1. Gerando curva para $B = 1.02 \\cdot 10^{-4}$ e $c = 1.0855$\n"
   ]
  },
  {
   "cell_type": "code",
   "execution_count": 20,
   "id": "5c628941",
   "metadata": {},
   "outputs": [],
   "source": [
    "def gompertz_pdf(x, B, c):\n",
    "    return B * c**x * exp(-B * (c**x - 1) / log(c))"
   ]
  },
  {
   "cell_type": "code",
   "execution_count": 21,
   "id": "ad014acd",
   "metadata": {},
   "outputs": [],
   "source": [
    "B = 0.000102\n",
    "c =  1.0855\n",
    "x = np.arange(0, 101)\n",
    "fx = [gompertz_pdf(i, B, c) for i in x]"
   ]
  },
  {
   "cell_type": "code",
   "execution_count": 22,
   "id": "e7944862",
   "metadata": {},
   "outputs": [
    {
     "data": {
      "image/png": "[encoded data removed]",
      "text/plain": [
       "<Figure size 432x288 with 1 Axes>"
      ]
     },
     "metadata": {
      "needs_background": "light"
     },
     "output_type": "display_data"
    }
   ],
   "source": [
    "plt.plot(x, fx)\n",
    "plt.show()"
   ]
  },
  {
   "cell_type": "markdown",
   "id": "e6b05ae6",
   "metadata": {},
   "source": [
    "2. Olhando a curva, é possível ver que: \n",
    "* P(X<40) é aproximadamente igual a 0.03\n",
    "* A probabilidade é máxima aos 80 anos, aproximadamente\n",
    "* A probabilidade de morrer com mais de 100 anos é maior do que a de morrer antes de completar 10 anos de idade"
   ]
  },
  {
   "cell_type": "markdown",
   "id": "ed20f853",
   "metadata": {},
   "source": [
    "3. Função de densidade de probabilidade acumulada inversa\n",
    "\n",
    "$F^{-1}(u) = \\frac{log(1 - log(c) \\frac{log(1-u)}{B})}{log(c)} $"
   ]
  },
  {
   "cell_type": "markdown",
   "id": "09540875",
   "metadata": {},
   "source": [
    "4. Utilizando o método da transformada inversa para gerar 50000 valores independentes"
   ]
  },
  {
   "cell_type": "code",
   "execution_count": 25,
   "id": "c2bc44f7",
   "metadata": {},
   "outputs": [],
   "source": [
    "def trans_inv(N, B, c):\n",
    "    values = []\n",
    "    for _ in range(N):\n",
    "        u = stats.uniform.rvs() \n",
    "        tmp = 1 - (log(c)*log(1-u)/B)\n",
    "        values.append(log(tmp) / log(c))\n",
    "    return values"
   ]
  },
  {
   "cell_type": "code",
   "execution_count": 26,
   "id": "6d079c10",
   "metadata": {
    "scrolled": false
   },
   "outputs": [
    {
     "data": {
      "image/png": "[encoded data removed]",
      "text/plain": [
       "<Figure size 432x288 with 1 Axes>"
      ]
     },
     "metadata": {
      "needs_background": "light"
     },
     "output_type": "display_data"
    }
   ],
   "source": [
    "values = trans_inv(50000, B, c)\n",
    "plt.hist(values)\n",
    "plt.show()"
   ]
  },
  {
   "cell_type": "markdown",
   "id": "3dd1813a",
   "metadata": {},
   "source": [
    "5. Calculando $P(X > 80| X > 50)$ pelos valores simulados, ou seja, frequência de números maiores que 80 dividido pela frequência de números maiores que 50. O resultado obtido foi de 0.45."
   ]
  },
  {
   "cell_type": "code",
   "execution_count": 29,
   "id": "fa12f2be",
   "metadata": {},
   "outputs": [
    {
     "data": {
      "text/plain": [
       "0.4467750280244891"
      ]
     },
     "execution_count": 29,
     "metadata": {},
     "output_type": "execute_result"
    }
   ],
   "source": [
    "P80 = sum(x > 80 for x in values)\n",
    "P50 = sum(x > 50 for x in values)\n",
    "P80/P50"
   ]
  },
  {
   "cell_type": "markdown",
   "id": "9431a9c1",
   "metadata": {},
   "source": [
    "6. Calculando probabilidade de perda de uma seguradora que cobra 2 mil por apólice e paga 100 mil a um beneficiário no momento em que o segurado morre. O dinheiro é colocado para rendimento de 2*exp(0.05t). O resultado obtido foi de que a seguradora tem probabilidade de perda de 0.53"
   ]
  },
  {
   "cell_type": "code",
   "execution_count": 45,
   "id": "f89cabed",
   "metadata": {},
   "outputs": [
    {
     "data": {
      "text/plain": [
       "0.53312"
      ]
     },
     "execution_count": 45,
     "metadata": {},
     "output_type": "execute_result"
    }
   ],
   "source": [
    "values = np.asarray(values)\n",
    "lucro = 2000 * np.exp(0.05 * values) - 100000\n",
    "N_perda = sum(lucro < 0)\n",
    "P_perda = N_perda / np.size(values)\n",
    "P_perda"
   ]
  },
  {
   "cell_type": "markdown",
   "id": "7850f5f8",
   "metadata": {},
   "source": [
    "## Exercício 7\n",
    "\n",
    "Usando Importance Sampling para estimar valores associados com X, uma v.a. com distribuição Gama com parâmetros $\\alpha$ = 3 e $\\beta$ = 2.\n",
    "\n",
    "Esperança obtida igual a 1.67, próximo da esperança analítica (1.5).\n",
    "\n",
    "Desvio padrão obtido igual a 0.73, próximo do desvio padrão analítico (0.75)"
   ]
  },
  {
   "cell_type": "code",
   "execution_count": 67,
   "id": "42b5a036",
   "metadata": {},
   "outputs": [],
   "source": [
    "N = 200\n",
    "U = np.asarray(stats.uniform.rvs(size=N))\n",
    "exp = -1* np.log(U)\n",
    "W = 4.5 * exp**2 * np.exp(-1*exp) "
   ]
  },
  {
   "cell_type": "code",
   "execution_count": 68,
   "id": "130b8202",
   "metadata": {},
   "outputs": [
    {
     "data": {
      "text/plain": [
       "1.6782233769216957"
      ]
     },
     "execution_count": 68,
     "metadata": {},
     "output_type": "execute_result"
    }
   ],
   "source": [
    "ESP = np.sum(exp*W) / N\n",
    "ESP"
   ]
  },
  {
   "cell_type": "code",
   "execution_count": 69,
   "id": "ae6b7491",
   "metadata": {},
   "outputs": [
    {
     "data": {
      "text/plain": [
       "0.7366979265680739"
      ]
     },
     "execution_count": 69,
     "metadata": {},
     "output_type": "execute_result"
    }
   ],
   "source": [
    "exp_x2 = exp**2\n",
    "ESP_X2 = np.sum(exp_x2*W) / N\n",
    "\n",
    "desvio_padrao = sqrt(ESP_X2 - ESP**2)\n",
    "desvio_padrao"
   ]
  },
  {
   "cell_type": "code",
   "execution_count": null,
   "id": "57769be1",
   "metadata": {},
   "outputs": [],
   "source": []
  }
 ],
 "metadata": {
  "kernelspec": {
   "display_name": "Python 3 (ipykernel)",
   "language": "python",
   "name": "python3"
  },
  "language_info": {
   "codemirror_mode": {
    "name": "ipython",
    "version": 3
   },
   "file_extension": ".py",
   "mimetype": "text/x-python",
   "name": "python",
   "nbconvert_exporter": "python",
   "pygments_lexer": "ipython3",
   "version": "3.10.4"
  }
 },
 "nbformat": 4,
 "nbformat_minor": 5
}
