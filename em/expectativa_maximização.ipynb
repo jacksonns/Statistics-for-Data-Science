{
 "cells": [
  {
   "cell_type": "markdown",
   "id": "a70543a9",
   "metadata": {},
   "source": [
    "# Algoritmo de Maximização de Expectativa (EM)"
   ]
  },
  {
   "cell_type": "markdown",
   "id": "b70c3239",
   "metadata": {},
   "source": [
    "## Imports"
   ]
  },
  {
   "cell_type": "code",
   "execution_count": 151,
   "id": "eb1d187f",
   "metadata": {},
   "outputs": [],
   "source": [
    "import numpy as np\n",
    "import matplotlib.pyplot as plt\n",
    "from scipy.stats import norm"
   ]
  },
  {
   "cell_type": "markdown",
   "id": "f41f1920",
   "metadata": {},
   "source": [
    "## EM\n",
    "\n",
    "Gerando uma mistura de Gaussianas $N(\\mu_{1}=0, \\sigma^{2}_{1}=1)$ e $N(\\mu_{2}=2, \\sigma^{2}_{2}=1.5^{2})$ nas proporções 70% e 30%, respectivamente ($\\alpha = 0.7$)\n",
    "\n",
    "Deseja-se recuperar o parâmetro $\\theta = (\\mu_{1}, \\sigma^{2}_{1}, \\mu_{2}, \\sigma^{2}_{2}, \\alpha)$\n",
    "\n",
    "A verossimilhança marginal é dada por:\n",
    "$$\n",
    "L(\\Theta|y) = \\prod_{i=1}^N \\left[ \\alpha \\cdot f(y_i|\\mu_1, \\sigma^{2}_{1}) + (1 - \\alpha) \\cdot f(y_i|\\mu_2, \\sigma^{2}_{2}) \\right]\n",
    "$$\n",
    "\n",
    "\n",
    "A verossimilhança completa é dada por:\n",
    "$$\n",
    "L_c(\\Theta|y,z) = \\prod_{i=1}^N \\left[ (\\alpha \\cdot f(y_i|\\mu_1, \\sigma^{2}_{1}))^{z_i} \\cdot ((1 - \\alpha) \\cdot f(y_i|\\mu_2, \\sigma^{2}_{2}))^{1-z_i} \\right]\n",
    "$$\n",
    "\n",
    "Onde $f$ é a função de densidade de probabilidade da Gaussiana e $z$ é o rótulo desconhecido sobre a qual classe cada dado pertence\n",
    "\n",
    "Considerando \n",
    "$$\n",
    "T^{(0)}_{i} =  P(Z_{i} = 1 | Y_{i} = y_{i}, \\theta^{0}) = \\frac{\\alpha^{(0)} \\cdot f(y_i|\\mu_1^{(0)}, \\sigma^{2(0)}_{1})}{\\alpha^{(0)} \\cdot f(y_i|\\mu_1^{(0)}, \\sigma^{2(0)}_{1}) + (1 - \\alpha^{(0)}) \\cdot f(y_i|\\mu_2^{(0)}, \\sigma^{2(0)}_{2})}\n",
    "$$\n",
    "\n",
    "Então \n",
    "\n",
    "$$\n",
    "\\begin{aligned}\n",
    "Q(\\theta | \\theta^{(0)}, y) & = E[l^c(\\theta | y, Z) | Y_i = y_i, \\theta^{(0)}] \\\\ \n",
    "{} & = \\sum_{i=1}^N{ E[Z_i | Y=y, \\theta^{(0)}] \\cdot log(\\alpha f(y_i|\\mu_1, \\sigma^{2}_{1})) + E[1 - Z_i | Y=y, \\theta^{(0)}] \\cdot log((1 - \\alpha) f(y_i|\\mu_2, \\sigma^{2}_{2}))} \\\\ \n",
    "{} & = \\sum_{i=1}^N{ T_i^{(0)} \\cdot \\left( log\\alpha - log\\sigma_1 - \\frac{1}{2}log(2\\pi) - \\frac{1}{2}. \\left(\\frac{y_i - \\mu_1}{\\sigma_1} \\right)^2 \\right) + (1 - T_i^{(0)}) \\cdot  \\left( log(1 - \\alpha) - log\\sigma_2 - \\frac{1}{2}log(2\\pi) - \\frac{1}{2}. \\left(\\frac{y_i - \\mu_2}{\\sigma_2} \\right)^2 \\right)}\n",
    "\\end{aligned}\n",
    "$$\n",
    "\n",
    "Maximizando $Q(\\theta | \\theta^{(0)}, y)$ com relação a Theta (derivando e igualando a 0), obtemos:\n",
    "$$\n",
    "\\begin{aligned}\n",
    "\\alpha & =  \\frac{\\sum_{i=1}^{N} T_i^{(0)}}{N}\\\\ \n",
    "\\mu_1 & = \\frac{\\sum_{i=1}^{N} T_i^{(0)}y_i}{\\sum_{i=1}^{N} T_i^{(0)}}\\\\ \n",
    "\\sigma_1^2 & = \\frac{\\sum_{i=1}^{N} T_i^{(0)}(y_i - \\mu_1)^2}{\\sum_{i=1}^{N} T_i^{(0)}}\\\\\n",
    "\\mu_2 & = \\frac{\\sum_{i=1}^{N} (1 - T_i^{(0)})y_i}{\\sum_{i=1}^{N} (1 - T_i^{(0)})}\\\\ \n",
    "\\sigma_2^2 & = \\frac{\\sum_{i=1}^{N} (1 - T_i^{(0)})(y_i - \\mu_2)^2}{\\sum_{i=1}^{N} (1 - T_i^{(0)})}\n",
    "\\end{aligned}\n",
    "$$"
   ]
  },
  {
   "cell_type": "code",
   "execution_count": 171,
   "id": "020c3ab8",
   "metadata": {},
   "outputs": [],
   "source": [
    "def gauss_mixture(N):\n",
    "    x = np.random.normal(0, 1, int(0.7 * N))\n",
    "    y = np.random.normal(2, 1.5, int(0.3 * N))\n",
    "    return np.concatenate((x, y), axis=0)"
   ]
  },
  {
   "cell_type": "code",
   "execution_count": 172,
   "id": "ed6fadb5",
   "metadata": {},
   "outputs": [
    {
     "data": {
      "image/png": "[encoded data removed]",
      "text/plain": [
       "<Figure size 432x288 with 1 Axes>"
      ]
     },
     "metadata": {
      "needs_background": "light"
     },
     "output_type": "display_data"
    }
   ],
   "source": [
    "Y = gauss_mixture(300)\n",
    "\n",
    "plt.hist(Y, density=True, alpha=0.5, color='b')\n",
    "plt.show()"
   ]
  },
  {
   "cell_type": "code",
   "execution_count": 173,
   "id": "f46b4a2d",
   "metadata": {},
   "outputs": [],
   "source": [
    "# Calcula função Ti = P(Zi = 1 | Yi = yi, theta^(0))\n",
    "def membership_probabilities(Y, alpha, mu1, var1, mu2, var2):\n",
    "    sigma1 = np.sqrt(var1)\n",
    "    sigma2 = np.sqrt(var2)\n",
    "    pdf1 = alpha * norm.pdf(Y, mu1, sigma1)\n",
    "    pdf2 = (1 - alpha) * norm.pdf(Y, mu2, sigma2)\n",
    "    return pdf1 / (pdf1 + pdf2)"
   ]
  },
  {
   "cell_type": "code",
   "execution_count": 194,
   "id": "111366cd",
   "metadata": {},
   "outputs": [],
   "source": [
    "def initialize_params():\n",
    "    #alpha = np.random.rand()\n",
    "    #mu1 = np.random.randn()\n",
    "    #var1 = np.abs(np.random.randn())\n",
    "    #mu2 = np.random.randn()\n",
    "    #var2 = np.abs(np.random.randn())\n",
    "    \n",
    "    return 0.5, 0, 1, 2, 1\n",
    "\n",
    "def EM(Y, n_iter=1000):\n",
    "    # Inicializando parâmetros\n",
    "    alpha, mu1, var1, mu2, var2 = initialize_params()\n",
    "    \n",
    "    for _ in range(n_iter):\n",
    "        # E-Step\n",
    "        T = membership_probabilities(Y, alpha, mu1, var1, mu2, var2)\n",
    "\n",
    "        # M-Step\n",
    "        N = len(Y)\n",
    "        T1_sum = np.sum(T)\n",
    "        T2_sum = N - T1_sum\n",
    "        \n",
    "        alpha = T1_sum / N\n",
    "        mu1 = np.sum(T * Y) / T1_sum\n",
    "        var1 = np.sum(T * (Y - mu1)**2) / T1_sum\n",
    "        mu2 = np.sum((1 - T) * Y) / T2_sum\n",
    "        var2 = np.sum((1 - T) * (Y - mu2)**2) / T2_sum\n",
    "    \n",
    "    return alpha, mu1, var1, mu2, var2"
   ]
  },
  {
   "cell_type": "code",
   "execution_count": 219,
   "id": "f262f14f",
   "metadata": {},
   "outputs": [],
   "source": [
    "Y = gauss_mixture(300)"
   ]
  },
  {
   "cell_type": "code",
   "execution_count": 220,
   "id": "125e6655",
   "metadata": {
    "scrolled": true
   },
   "outputs": [
    {
     "name": "stdout",
     "output_type": "stream",
     "text": [
      "Resultados:\n",
      "alpha = 0.7603609787402414\n",
      "mu1 = 0.06788441488967364\n",
      "var1 = 1.0426381456304654\n",
      "mu2 = 2.2102070272744623\n",
      "var2 = 2.581096512242917\n"
     ]
    }
   ],
   "source": [
    "alpha, mu1, var1, mu2, var2 = EM(Y)\n",
    "\n",
    "print('Resultados:')\n",
    "print(f'alpha = {alpha}')\n",
    "print(f'mu1 = {mu1}')\n",
    "print(f'var1 = {var1}')\n",
    "print(f'mu2 = {mu2}')\n",
    "print(f'var2 = {var2}')"
   ]
  },
  {
   "cell_type": "markdown",
   "id": "aba2f34c",
   "metadata": {},
   "source": [
    "## Resultados\n",
    "\n",
    "Esperava-se obter o vetor $\\theta = (0, 1, 2, 2.25, 0.7)$\n",
    "\n",
    "Foi obtido o vetor $\\theta = (0.06, 1.04, 2.21, 2.58, 0.76)$"
   ]
  },
  {
   "cell_type": "code",
   "execution_count": null,
   "id": "9cf1b7a7",
   "metadata": {},
   "outputs": [],
   "source": []
  }
 ],
 "metadata": {
  "kernelspec": {
   "display_name": "Python 3 (ipykernel)",
   "language": "python",
   "name": "python3"
  },
  "language_info": {
   "codemirror_mode": {
    "name": "ipython",
    "version": 3
   },
   "file_extension": ".py",
   "mimetype": "text/x-python",
   "name": "python",
   "nbconvert_exporter": "python",
   "pygments_lexer": "ipython3",
   "version": "3.10.4"
  }
 },
 "nbformat": 4,
 "nbformat_minor": 5
}
